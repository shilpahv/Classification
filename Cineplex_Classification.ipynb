{
  "nbformat": 4,
  "nbformat_minor": 0,
  "metadata": {
    "colab": {
      "name": "Alfred_ML_Project_Final.ipynb",
      "provenance": [],
      "toc_visible": true
    },
    "kernelspec": {
      "name": "python3",
      "display_name": "Python 3"
    }
  },
  "cells": [
    {
      "cell_type": "code",
      "metadata": {
        "id": "isGYM_d1mO7h"
      },
      "source": [
        "import pandas as pd\n",
        "import numpy as np\n",
        "\n",
        "from IPython.core.interactiveshell import InteractiveShell\n",
        "from IPython.display import display\n",
        "InteractiveShell.ast_node_interactivity = \"all\"\n",
        "pd.options.display.max_columns = None\n",
        "pd.options.display.max_rows = None\n",
        "pd.options.display.float_format = lambda x: '%.4f' % x"
      ],
      "execution_count": null,
      "outputs": []
    },
    {
      "cell_type": "markdown",
      "metadata": {
        "id": "8zSgM8chmcZV"
      },
      "source": [
        "# **Load Data**"
      ]
    },
    {
      "cell_type": "code",
      "metadata": {
        "id": "mAkXSjx6e4LI"
      },
      "source": [
        "version_str = \"_v3\"\n",
        "input_dir = \"drive/My Drive/MMAI869/data/\"\n",
        "gen_dir = 'gen_v3/'"
      ],
      "execution_count": null,
      "outputs": []
    },
    {
      "cell_type": "code",
      "metadata": {
        "colab": {
          "base_uri": "https://localhost:8080/"
        },
        "id": "sCSJJGyognwP",
        "outputId": "77b3b318-ebc0-439d-ee55-7731fe564da0"
      },
      "source": [
        "from google.colab import drive\n",
        "drive.mount('/content/drive')"
      ],
      "execution_count": null,
      "outputs": [
        {
          "output_type": "stream",
          "text": [
            "Mounted at /content/drive\n"
          ],
          "name": "stdout"
        }
      ]
    },
    {
      "cell_type": "code",
      "metadata": {
        "id": "WwA-tcWTmbSQ"
      },
      "source": [
        "visits = pd.read_csv(input_dir+\"visits\"+version_str+\".csv\")\n",
        "locations = pd.read_csv(input_dir+\"locations\"+version_str+\".csv\", encoding = \"ISO-8859-1\")\n",
        "visits_items = pd.read_csv(input_dir+\"visit_items\"+version_str+\".csv\", encoding = \"ISO-8859-1\")\n",
        "films = pd.read_csv(input_dir+\"films\"+version_str+\".csv\", encoding = \"ISO-8859-1\")\n",
        "experience_type = pd.read_csv(input_dir+\"experience_type\"+version_str+\".csv\", encoding = \"ISO-8859-1\")\n",
        "sales_channels = pd.read_csv(input_dir+\"sales_channels\"+version_str+\".csv\", encoding = \"ISO-8859-1\")\n",
        "timeslice = pd.read_csv(input_dir+\"timeslice\"+version_str+\".csv\", encoding = \"ISO-8859-1\")\n",
        "visits_items = pd.read_csv(input_dir+\"visit_items\"+version_str+\".csv\", encoding = \"ISO-8859-1\")\n",
        "\n",
        "#Custom_files\n",
        "items = pd.read_csv(input_dir+\"mapping_concession_flags\"+version_str+\".csv\")\n",
        "items.fillna(0, inplace=True)"
      ],
      "execution_count": null,
      "outputs": []
    },
    {
      "cell_type": "code",
      "metadata": {
        "colab": {
          "base_uri": "https://localhost:8080/",
          "height": 214
        },
        "id": "IaL6YGhznQRe",
        "outputId": "c1ca0227-2305-4ce8-a9e2-b1ed19a06f95"
      },
      "source": [
        "visits.head()"
      ],
      "execution_count": null,
      "outputs": [
        {
          "output_type": "execute_result",
          "data": {
            "text/html": [
              "<div>\n",
              "<style scoped>\n",
              "    .dataframe tbody tr th:only-of-type {\n",
              "        vertical-align: middle;\n",
              "    }\n",
              "\n",
              "    .dataframe tbody tr th {\n",
              "        vertical-align: top;\n",
              "    }\n",
              "\n",
              "    .dataframe thead th {\n",
              "        text-align: right;\n",
              "    }\n",
              "</style>\n",
              "<table border=\"1\" class=\"dataframe\">\n",
              "  <thead>\n",
              "    <tr style=\"text-align: right;\">\n",
              "      <th></th>\n",
              "      <th>Visit_ID</th>\n",
              "      <th>CINEPLEX_D_Membership_ID</th>\n",
              "      <th>Visit_Date</th>\n",
              "      <th>Visit_TimeSlice_ID</th>\n",
              "      <th>Location_ID</th>\n",
              "      <th>Auditorium_Experience_ID</th>\n",
              "      <th>Film_ID</th>\n",
              "      <th>Seating_Experience_ID</th>\n",
              "      <th>Sales_Channel_ID</th>\n",
              "      <th>Performance_Experience_ID</th>\n",
              "      <th>Performance_Type_ID</th>\n",
              "      <th>Spend</th>\n",
              "      <th>Revenue</th>\n",
              "      <th>Points_Earned</th>\n",
              "      <th>Points_Redeemed</th>\n",
              "      <th>Discount</th>\n",
              "      <th>Has_US_Is_LrgPopcorn</th>\n",
              "      <th>Has_US_Is_Butter</th>\n",
              "      <th>Has_US_Is_Alcohol</th>\n",
              "      <th>Has_US_Is_Candy</th>\n",
              "      <th>Has_US_Is_Coffee</th>\n",
              "      <th>Has_US_Is_Kiddietray</th>\n",
              "      <th>Has_US_Is_Voucher</th>\n",
              "      <th>Has_US_Is_MenuFood</th>\n",
              "    </tr>\n",
              "  </thead>\n",
              "  <tbody>\n",
              "    <tr>\n",
              "      <th>0</th>\n",
              "      <td>2</td>\n",
              "      <td>23777</td>\n",
              "      <td>2019-01-01</td>\n",
              "      <td>15</td>\n",
              "      <td>7253</td>\n",
              "      <td>1</td>\n",
              "      <td>28757</td>\n",
              "      <td>1</td>\n",
              "      <td>8</td>\n",
              "      <td>1</td>\n",
              "      <td>1</td>\n",
              "      <td>15.0400</td>\n",
              "      <td>15.0400</td>\n",
              "      <td>100</td>\n",
              "      <td>0</td>\n",
              "      <td>1.6800</td>\n",
              "      <td>0</td>\n",
              "      <td>0</td>\n",
              "      <td>0</td>\n",
              "      <td>0</td>\n",
              "      <td>0</td>\n",
              "      <td>0</td>\n",
              "      <td>0</td>\n",
              "      <td>0</td>\n",
              "    </tr>\n",
              "    <tr>\n",
              "      <th>1</th>\n",
              "      <td>3</td>\n",
              "      <td>60723</td>\n",
              "      <td>2019-01-01</td>\n",
              "      <td>15</td>\n",
              "      <td>7123</td>\n",
              "      <td>0</td>\n",
              "      <td>0</td>\n",
              "      <td>0</td>\n",
              "      <td>8</td>\n",
              "      <td>0</td>\n",
              "      <td>0</td>\n",
              "      <td>29.6100</td>\n",
              "      <td>29.6100</td>\n",
              "      <td>297</td>\n",
              "      <td>0</td>\n",
              "      <td>3.2900</td>\n",
              "      <td>0</td>\n",
              "      <td>1</td>\n",
              "      <td>0</td>\n",
              "      <td>0</td>\n",
              "      <td>0</td>\n",
              "      <td>0</td>\n",
              "      <td>1</td>\n",
              "      <td>1</td>\n",
              "    </tr>\n",
              "    <tr>\n",
              "      <th>2</th>\n",
              "      <td>4</td>\n",
              "      <td>61080</td>\n",
              "      <td>2019-01-01</td>\n",
              "      <td>15</td>\n",
              "      <td>7290</td>\n",
              "      <td>2</td>\n",
              "      <td>24899</td>\n",
              "      <td>2</td>\n",
              "      <td>8</td>\n",
              "      <td>2</td>\n",
              "      <td>1</td>\n",
              "      <td>28.4000</td>\n",
              "      <td>28.4000</td>\n",
              "      <td>235</td>\n",
              "      <td>0</td>\n",
              "      <td>3.1600</td>\n",
              "      <td>1</td>\n",
              "      <td>1</td>\n",
              "      <td>0</td>\n",
              "      <td>0</td>\n",
              "      <td>0</td>\n",
              "      <td>0</td>\n",
              "      <td>0</td>\n",
              "      <td>0</td>\n",
              "    </tr>\n",
              "    <tr>\n",
              "      <th>3</th>\n",
              "      <td>5</td>\n",
              "      <td>103538</td>\n",
              "      <td>2019-01-01</td>\n",
              "      <td>14</td>\n",
              "      <td>1142</td>\n",
              "      <td>1</td>\n",
              "      <td>24977</td>\n",
              "      <td>1</td>\n",
              "      <td>2</td>\n",
              "      <td>1</td>\n",
              "      <td>1</td>\n",
              "      <td>0.0000</td>\n",
              "      <td>10.0000</td>\n",
              "      <td>0</td>\n",
              "      <td>1000</td>\n",
              "      <td>0.0000</td>\n",
              "      <td>0</td>\n",
              "      <td>0</td>\n",
              "      <td>0</td>\n",
              "      <td>0</td>\n",
              "      <td>0</td>\n",
              "      <td>0</td>\n",
              "      <td>0</td>\n",
              "      <td>0</td>\n",
              "    </tr>\n",
              "    <tr>\n",
              "      <th>4</th>\n",
              "      <td>6</td>\n",
              "      <td>120196</td>\n",
              "      <td>2019-01-01</td>\n",
              "      <td>23</td>\n",
              "      <td>9181</td>\n",
              "      <td>1</td>\n",
              "      <td>29694</td>\n",
              "      <td>1</td>\n",
              "      <td>2</td>\n",
              "      <td>1</td>\n",
              "      <td>1</td>\n",
              "      <td>17.6100</td>\n",
              "      <td>17.6100</td>\n",
              "      <td>100</td>\n",
              "      <td>0</td>\n",
              "      <td>1.9500</td>\n",
              "      <td>0</td>\n",
              "      <td>0</td>\n",
              "      <td>0</td>\n",
              "      <td>0</td>\n",
              "      <td>0</td>\n",
              "      <td>0</td>\n",
              "      <td>0</td>\n",
              "      <td>0</td>\n",
              "    </tr>\n",
              "  </tbody>\n",
              "</table>\n",
              "</div>"
            ],
            "text/plain": [
              "   Visit_ID  CINEPLEX_D_Membership_ID  Visit_Date  Visit_TimeSlice_ID  \\\n",
              "0         2                     23777  2019-01-01                  15   \n",
              "1         3                     60723  2019-01-01                  15   \n",
              "2         4                     61080  2019-01-01                  15   \n",
              "3         5                    103538  2019-01-01                  14   \n",
              "4         6                    120196  2019-01-01                  23   \n",
              "\n",
              "   Location_ID  Auditorium_Experience_ID  Film_ID  Seating_Experience_ID  \\\n",
              "0         7253                         1    28757                      1   \n",
              "1         7123                         0        0                      0   \n",
              "2         7290                         2    24899                      2   \n",
              "3         1142                         1    24977                      1   \n",
              "4         9181                         1    29694                      1   \n",
              "\n",
              "   Sales_Channel_ID  Performance_Experience_ID  Performance_Type_ID   Spend  \\\n",
              "0                 8                          1                    1 15.0400   \n",
              "1                 8                          0                    0 29.6100   \n",
              "2                 8                          2                    1 28.4000   \n",
              "3                 2                          1                    1  0.0000   \n",
              "4                 2                          1                    1 17.6100   \n",
              "\n",
              "   Revenue  Points_Earned  Points_Redeemed  Discount  Has_US_Is_LrgPopcorn  \\\n",
              "0  15.0400            100                0    1.6800                     0   \n",
              "1  29.6100            297                0    3.2900                     0   \n",
              "2  28.4000            235                0    3.1600                     1   \n",
              "3  10.0000              0             1000    0.0000                     0   \n",
              "4  17.6100            100                0    1.9500                     0   \n",
              "\n",
              "   Has_US_Is_Butter  Has_US_Is_Alcohol  Has_US_Is_Candy  Has_US_Is_Coffee  \\\n",
              "0                 0                  0                0                 0   \n",
              "1                 1                  0                0                 0   \n",
              "2                 1                  0                0                 0   \n",
              "3                 0                  0                0                 0   \n",
              "4                 0                  0                0                 0   \n",
              "\n",
              "   Has_US_Is_Kiddietray  Has_US_Is_Voucher  Has_US_Is_MenuFood  \n",
              "0                     0                  0                   0  \n",
              "1                     0                  1                   1  \n",
              "2                     0                  0                   0  \n",
              "3                     0                  0                   0  \n",
              "4                     0                  0                   0  "
            ]
          },
          "metadata": {
            "tags": []
          },
          "execution_count": 28
        }
      ]
    },
    {
      "cell_type": "markdown",
      "metadata": {
        "id": "vNkxpIxgnXk5"
      },
      "source": [
        "# **Data Wrangling and Cleaning**\n",
        "- Merge all the fact tables (e.g., `films`, `locations`) into on big `visits` table - this table will act as the \"historical truth\"\n",
        "- Fill in missing values with \"Unknown\"\n",
        "- Extract some date info\n"
      ]
    },
    {
      "cell_type": "code",
      "metadata": {
        "id": "5UUUHvHandmp"
      },
      "source": [
        "def calc_popcorn_item(df):\n",
        "    # TALK TO MOHAMMAD to REVIEW THIS VS. HIS GROUPING\n",
        "    bool_popcorn_and_not_topping = ((items['EIS_Sub_Group_Description']!='TOPPING') & \n",
        "                                       (items['Item_Class_Description1']=='VHO-POPCORN'))\n",
        "    \n",
        "    #These categories are coupons/vouchers that have popcorn purchase but no butter (VHO-COMBO CIP is an exception)\n",
        "    other_popcorn_categories = ['VHO-COMBO NON CIP','COUPONS','ATM-Conc-Voucher']\n",
        "    bool_other_popcorn_categories = (items['Item_Class_Description1'].isin(other_popcorn_categories))\n",
        "    popcorn_flag = np.where(((bool_popcorn_and_not_topping) | (bool_other_popcorn_categories)),1,0)\n",
        "    return popcorn_flag\n",
        "\n",
        "#Data Cleaning\n",
        "def clean_timeslice(df):\n",
        "    drop_columns = ['Visit_TimeSlice_ID','TimeSlice_ID','TimeSlice_Start_Time','TimeSlice_End_Time',\n",
        "                    'TimeSlice_Hour_12','TimeSlice_Hour_24']\n",
        "    df['TimeSlice_Hour_AMPM'] = np.where(df['TimeSlice_Hour_24']>=12,'PM','AM')\n",
        "    df.drop(drop_columns, axis=1, inplace=True)\n",
        "    return df\n",
        "\n",
        "def clean_sales_channel(df):\n",
        "    mapping_sales_channel = pd.read_csv(input_dir+\"mapping_sales_channel\"+version_str+\".csv\", encoding = \"ISO-8859-1\")\n",
        "    df = pd.merge(df, mapping_sales_channel, on = ['Sales_Channel_ID','Sales_Channel'], how='left')\n",
        "    return df\n",
        "\n",
        "\n",
        "data.groupby('partner_id').agg('count_varia', lamda value:((year_month-year_month_b6m)<6) )\n",
        "\n",
        "# Feature Engineering\n",
        "def member_level_visit_stats(df,column):\n",
        "    df = df[df[column]==0].groupby('CINEPLEX_D_Membership_ID').agg(\n",
        "        {\n",
        "         'Revenue': ['min', 'mean', 'max', 'sum'],\n",
        "         'Spend':['min', 'mean', 'max', 'sum'],\n",
        "         'Discount':['min', 'mean', 'max', 'sum'],\n",
        "         'Points_Earned':['min', 'mean', 'max', 'sum'],\n",
        "         'Points_Redeemed':['min', 'mean', 'max', 'sum']\n",
        "        })\n",
        "    df.columns = [(column+\"_\"+\"_\".join(x)) for x in df.columns.ravel()]\n",
        "    df = df.reset_index()\n",
        "    df.rename(columns={'CINEPLEX_D_Membership_ID_': \"CINEPLEX_D_Membership_ID\"},inplace=True)\n",
        "    df = df.fillna(0)\n",
        "    return df\n",
        "\n",
        "def ticket_sale_count(df,df_items):\n",
        "    df_items = pd.merge(df_items[['Visit_ID','CINEPLEX_D_Membership_ID','Item_Class_Description1']],\n",
        "                        df[['Visit_ID','CINEPLEX_D_Membership_ID','Film_ID']],how='left',on=['Visit_ID','CINEPLEX_D_Membership_ID'])\n",
        "    df_items['Tickets'] = np.where((df_items['Item_Class_Description1']=='0') & (df_items['Film_ID']!=0),1,0)\n",
        "    return df_items['Tickets']\n"
      ],
      "execution_count": null,
      "outputs": []
    },
    {
      "cell_type": "markdown",
      "metadata": {
        "id": "nIxfX2lDo0H3"
      },
      "source": [
        "# Item Purchase List - Clean-up"
      ]
    },
    {
      "cell_type": "code",
      "metadata": {
        "colab": {
          "base_uri": "https://localhost:8080/",
          "height": 420
        },
        "id": "2ovBijhKonTY",
        "outputId": "a49ee428-4855-49a0-8a6f-51883a3e0934"
      },
      "source": [
        "# categorize all the butter items (when the Popcorn description = VHO-POPCORN)\n",
        "items['YM_popcorn'] = calc_popcorn_item(items)\n",
        "\n",
        "# List of all Butter Items in the Item inventory\n",
        "items[(items['CINEPLEX_Item_Description'].str.contains('BUTTER'))]"
      ],
      "execution_count": null,
      "outputs": [
        {
          "output_type": "execute_result",
          "data": {
            "text/html": [
              "<div>\n",
              "<style scoped>\n",
              "    .dataframe tbody tr th:only-of-type {\n",
              "        vertical-align: middle;\n",
              "    }\n",
              "\n",
              "    .dataframe tbody tr th {\n",
              "        vertical-align: top;\n",
              "    }\n",
              "\n",
              "    .dataframe thead th {\n",
              "        text-align: right;\n",
              "    }\n",
              "</style>\n",
              "<table border=\"1\" class=\"dataframe\">\n",
              "  <thead>\n",
              "    <tr style=\"text-align: right;\">\n",
              "      <th></th>\n",
              "      <th>CINEPLEX_Item_ID</th>\n",
              "      <th>CINEPLEX_Item_Description</th>\n",
              "      <th>CINEPLEX_Item_Status</th>\n",
              "      <th>EIS_Group_Description</th>\n",
              "      <th>EIS_Sub_Group_Description</th>\n",
              "      <th>Item_Report_Code2</th>\n",
              "      <th>Item_Report_Code3</th>\n",
              "      <th>Item_Class_Description1</th>\n",
              "      <th>Item_Class_Description2</th>\n",
              "      <th>Item_Class_Description3</th>\n",
              "      <th>Is_Item_Package</th>\n",
              "      <th>Is_Box_Office_Item</th>\n",
              "      <th>YM_BUTTER</th>\n",
              "      <th>YM_Alcohol</th>\n",
              "      <th>YM_Coffee</th>\n",
              "      <th>YM_popcorn</th>\n",
              "      <th>YM_concession</th>\n",
              "      <th>YM_Voucher</th>\n",
              "      <th>YM_Coupon</th>\n",
              "      <th>YM_VoucherCoupon</th>\n",
              "    </tr>\n",
              "  </thead>\n",
              "  <tbody>\n",
              "    <tr>\n",
              "      <th>166</th>\n",
              "      <td>93852</td>\n",
              "      <td>VHO CORN - BUTTER - KID</td>\n",
              "      <td>A</td>\n",
              "      <td>Popcorn</td>\n",
              "      <td>TOPPING</td>\n",
              "      <td>0</td>\n",
              "      <td>0</td>\n",
              "      <td>VHO-POPCORN</td>\n",
              "      <td>0</td>\n",
              "      <td>0</td>\n",
              "      <td>0</td>\n",
              "      <td>0</td>\n",
              "      <td>1</td>\n",
              "      <td>0</td>\n",
              "      <td>0</td>\n",
              "      <td>0</td>\n",
              "      <td>1</td>\n",
              "      <td>0</td>\n",
              "      <td>0</td>\n",
              "      <td>0</td>\n",
              "    </tr>\n",
              "    <tr>\n",
              "      <th>167</th>\n",
              "      <td>93853</td>\n",
              "      <td>VHO CORN - BUTTER - LARGE</td>\n",
              "      <td>A</td>\n",
              "      <td>Popcorn</td>\n",
              "      <td>TOPPING</td>\n",
              "      <td>Add 60-320 Cals</td>\n",
              "      <td>Y</td>\n",
              "      <td>VHO-POPCORN</td>\n",
              "      <td>0</td>\n",
              "      <td>0</td>\n",
              "      <td>0</td>\n",
              "      <td>0</td>\n",
              "      <td>1</td>\n",
              "      <td>0</td>\n",
              "      <td>0</td>\n",
              "      <td>0</td>\n",
              "      <td>1</td>\n",
              "      <td>0</td>\n",
              "      <td>0</td>\n",
              "      <td>0</td>\n",
              "    </tr>\n",
              "    <tr>\n",
              "      <th>168</th>\n",
              "      <td>81015</td>\n",
              "      <td>VHO CORN - BUTTER - LAYERED - LARGE</td>\n",
              "      <td>A</td>\n",
              "      <td>Food</td>\n",
              "      <td>Food</td>\n",
              "      <td>Add 120-640 Cals</td>\n",
              "      <td>Y</td>\n",
              "      <td>VHO-POPCORN</td>\n",
              "      <td>0</td>\n",
              "      <td>0</td>\n",
              "      <td>0</td>\n",
              "      <td>0</td>\n",
              "      <td>1</td>\n",
              "      <td>0</td>\n",
              "      <td>0</td>\n",
              "      <td>1</td>\n",
              "      <td>1</td>\n",
              "      <td>0</td>\n",
              "      <td>0</td>\n",
              "      <td>0</td>\n",
              "    </tr>\n",
              "    <tr>\n",
              "      <th>169</th>\n",
              "      <td>81048</td>\n",
              "      <td>VHO CORN - BUTTER - LAYERED REGULAR</td>\n",
              "      <td>A</td>\n",
              "      <td>Food</td>\n",
              "      <td>Food</td>\n",
              "      <td>Add 120-640 Cals</td>\n",
              "      <td>Y</td>\n",
              "      <td>VHO-POPCORN</td>\n",
              "      <td>0</td>\n",
              "      <td>0</td>\n",
              "      <td>0</td>\n",
              "      <td>0</td>\n",
              "      <td>1</td>\n",
              "      <td>0</td>\n",
              "      <td>0</td>\n",
              "      <td>1</td>\n",
              "      <td>1</td>\n",
              "      <td>0</td>\n",
              "      <td>0</td>\n",
              "      <td>0</td>\n",
              "    </tr>\n",
              "    <tr>\n",
              "      <th>170</th>\n",
              "      <td>81049</td>\n",
              "      <td>VHO CORN - BUTTER - LAYERED SMALL</td>\n",
              "      <td>A</td>\n",
              "      <td>Food</td>\n",
              "      <td>Food</td>\n",
              "      <td>Add 120-640 Cals</td>\n",
              "      <td>Y</td>\n",
              "      <td>VHO-POPCORN</td>\n",
              "      <td>0</td>\n",
              "      <td>0</td>\n",
              "      <td>0</td>\n",
              "      <td>0</td>\n",
              "      <td>1</td>\n",
              "      <td>0</td>\n",
              "      <td>0</td>\n",
              "      <td>1</td>\n",
              "      <td>1</td>\n",
              "      <td>0</td>\n",
              "      <td>0</td>\n",
              "      <td>0</td>\n",
              "    </tr>\n",
              "    <tr>\n",
              "      <th>171</th>\n",
              "      <td>93854</td>\n",
              "      <td>VHO CORN - BUTTER - REGULAR</td>\n",
              "      <td>A</td>\n",
              "      <td>Popcorn</td>\n",
              "      <td>TOPPING</td>\n",
              "      <td>Add 60-320 Cals</td>\n",
              "      <td>0</td>\n",
              "      <td>VHO-POPCORN</td>\n",
              "      <td>0</td>\n",
              "      <td>0</td>\n",
              "      <td>0</td>\n",
              "      <td>0</td>\n",
              "      <td>1</td>\n",
              "      <td>0</td>\n",
              "      <td>0</td>\n",
              "      <td>0</td>\n",
              "      <td>1</td>\n",
              "      <td>0</td>\n",
              "      <td>0</td>\n",
              "      <td>0</td>\n",
              "    </tr>\n",
              "    <tr>\n",
              "      <th>172</th>\n",
              "      <td>93855</td>\n",
              "      <td>VHO CORN - BUTTER - SMALL</td>\n",
              "      <td>A</td>\n",
              "      <td>Popcorn</td>\n",
              "      <td>TOPPING</td>\n",
              "      <td>Add 60-320 Cals</td>\n",
              "      <td>0</td>\n",
              "      <td>VHO-POPCORN</td>\n",
              "      <td>0</td>\n",
              "      <td>0</td>\n",
              "      <td>0</td>\n",
              "      <td>0</td>\n",
              "      <td>1</td>\n",
              "      <td>0</td>\n",
              "      <td>0</td>\n",
              "      <td>0</td>\n",
              "      <td>1</td>\n",
              "      <td>0</td>\n",
              "      <td>0</td>\n",
              "      <td>0</td>\n",
              "    </tr>\n",
              "    <tr>\n",
              "      <th>259</th>\n",
              "      <td>80590</td>\n",
              "      <td>VHO LQ DESS - SALTED BUTTERSCOTCH BROWNIE</td>\n",
              "      <td>A</td>\n",
              "      <td>0</td>\n",
              "      <td>0</td>\n",
              "      <td>(VG) 550 Cals</td>\n",
              "      <td>0</td>\n",
              "      <td>VHO-LICENSED FOOD</td>\n",
              "      <td>0</td>\n",
              "      <td>0</td>\n",
              "      <td>0</td>\n",
              "      <td>0</td>\n",
              "      <td>0</td>\n",
              "      <td>0</td>\n",
              "      <td>0</td>\n",
              "      <td>0</td>\n",
              "      <td>1</td>\n",
              "      <td>0</td>\n",
              "      <td>0</td>\n",
              "      <td>0</td>\n",
              "    </tr>\n",
              "  </tbody>\n",
              "</table>\n",
              "</div>"
            ],
            "text/plain": [
              "     CINEPLEX_Item_ID                  CINEPLEX_Item_Description  \\\n",
              "166             93852                    VHO CORN - BUTTER - KID   \n",
              "167             93853                  VHO CORN - BUTTER - LARGE   \n",
              "168             81015        VHO CORN - BUTTER - LAYERED - LARGE   \n",
              "169             81048        VHO CORN - BUTTER - LAYERED REGULAR   \n",
              "170             81049          VHO CORN - BUTTER - LAYERED SMALL   \n",
              "171             93854                VHO CORN - BUTTER - REGULAR   \n",
              "172             93855                  VHO CORN - BUTTER - SMALL   \n",
              "259             80590  VHO LQ DESS - SALTED BUTTERSCOTCH BROWNIE   \n",
              "\n",
              "    CINEPLEX_Item_Status EIS_Group_Description EIS_Sub_Group_Description  \\\n",
              "166                    A               Popcorn                   TOPPING   \n",
              "167                    A               Popcorn                   TOPPING   \n",
              "168                    A                  Food                      Food   \n",
              "169                    A                  Food                      Food   \n",
              "170                    A                  Food                      Food   \n",
              "171                    A               Popcorn                   TOPPING   \n",
              "172                    A               Popcorn                   TOPPING   \n",
              "259                    A                     0                         0   \n",
              "\n",
              "    Item_Report_Code2 Item_Report_Code3 Item_Class_Description1  \\\n",
              "166                 0                 0             VHO-POPCORN   \n",
              "167   Add 60-320 Cals                 Y             VHO-POPCORN   \n",
              "168  Add 120-640 Cals                 Y             VHO-POPCORN   \n",
              "169  Add 120-640 Cals                 Y             VHO-POPCORN   \n",
              "170  Add 120-640 Cals                 Y             VHO-POPCORN   \n",
              "171   Add 60-320 Cals                 0             VHO-POPCORN   \n",
              "172   Add 60-320 Cals                 0             VHO-POPCORN   \n",
              "259     (VG) 550 Cals                 0       VHO-LICENSED FOOD   \n",
              "\n",
              "     Item_Class_Description2 Item_Class_Description3  Is_Item_Package  \\\n",
              "166                        0                       0                0   \n",
              "167                        0                       0                0   \n",
              "168                        0                       0                0   \n",
              "169                        0                       0                0   \n",
              "170                        0                       0                0   \n",
              "171                        0                       0                0   \n",
              "172                        0                       0                0   \n",
              "259                        0                       0                0   \n",
              "\n",
              "     Is_Box_Office_Item  YM_BUTTER  YM_Alcohol  YM_Coffee  YM_popcorn  \\\n",
              "166                   0          1           0          0           0   \n",
              "167                   0          1           0          0           0   \n",
              "168                   0          1           0          0           1   \n",
              "169                   0          1           0          0           1   \n",
              "170                   0          1           0          0           1   \n",
              "171                   0          1           0          0           0   \n",
              "172                   0          1           0          0           0   \n",
              "259                   0          0           0          0           0   \n",
              "\n",
              "     YM_concession  YM_Voucher  YM_Coupon  YM_VoucherCoupon  \n",
              "166              1           0          0                 0  \n",
              "167              1           0          0                 0  \n",
              "168              1           0          0                 0  \n",
              "169              1           0          0                 0  \n",
              "170              1           0          0                 0  \n",
              "171              1           0          0                 0  \n",
              "172              1           0          0                 0  \n",
              "259              1           0          0                 0  "
            ]
          },
          "metadata": {
            "tags": []
          },
          "execution_count": 30
        }
      ]
    },
    {
      "cell_type": "code",
      "metadata": {
        "colab": {
          "base_uri": "https://localhost:8080/"
        },
        "id": "PHdJUGa2M6bD",
        "outputId": "44e9f80b-f38c-485f-a853-167aaaf5371b"
      },
      "source": [
        "# Read in visit item file (list of purchases)\n",
        "\n",
        "visits_items.shape\n",
        "visits_items = pd.merge(visits_items, items, on='CINEPLEX_Item_ID', how='left')\n",
        "visits_items['Ticket'] = ticket_sale_count(visits, visits_items)\n",
        "visits_items['Ticket'].fillna(0,inplace=True)\n",
        "visits_items.shape"
      ],
      "execution_count": null,
      "outputs": [
        {
          "output_type": "execute_result",
          "data": {
            "text/plain": [
              "(170060, 8)"
            ]
          },
          "metadata": {
            "tags": []
          },
          "execution_count": 31
        },
        {
          "output_type": "execute_result",
          "data": {
            "text/plain": [
              "(170060, 28)"
            ]
          },
          "metadata": {
            "tags": []
          },
          "execution_count": 31
        }
      ]
    },
    {
      "cell_type": "code",
      "metadata": {
        "colab": {
          "base_uri": "https://localhost:8080/",
          "height": 194
        },
        "id": "4YTiMlk9Ljc9",
        "outputId": "20fccaea-a861-4f0b-cf15-646183aa4b02"
      },
      "source": [
        "# Sample Check\n",
        "visits_items[visits_items.Visit_ID == 122][['CINEPLEX_Item_Description','YM_BUTTER']]"
      ],
      "execution_count": null,
      "outputs": [
        {
          "output_type": "execute_result",
          "data": {
            "text/html": [
              "<div>\n",
              "<style scoped>\n",
              "    .dataframe tbody tr th:only-of-type {\n",
              "        vertical-align: middle;\n",
              "    }\n",
              "\n",
              "    .dataframe tbody tr th {\n",
              "        vertical-align: top;\n",
              "    }\n",
              "\n",
              "    .dataframe thead th {\n",
              "        text-align: right;\n",
              "    }\n",
              "</style>\n",
              "<table border=\"1\" class=\"dataframe\">\n",
              "  <thead>\n",
              "    <tr style=\"text-align: right;\">\n",
              "      <th></th>\n",
              "      <th>CINEPLEX_Item_Description</th>\n",
              "      <th>YM_BUTTER</th>\n",
              "    </tr>\n",
              "  </thead>\n",
              "  <tbody>\n",
              "    <tr>\n",
              "      <th>65826</th>\n",
              "      <td>&lt;Unknown&gt;</td>\n",
              "      <td>0</td>\n",
              "    </tr>\n",
              "    <tr>\n",
              "      <th>65903</th>\n",
              "      <td>VHO CORN - POPCORN REGULAR 130oz.</td>\n",
              "      <td>0</td>\n",
              "    </tr>\n",
              "    <tr>\n",
              "      <th>65904</th>\n",
              "      <td>VHO DRINK - CUP REGULAR 24 OZ FOUNTAIN</td>\n",
              "      <td>0</td>\n",
              "    </tr>\n",
              "    <tr>\n",
              "      <th>65905</th>\n",
              "      <td>VHO CORN - BUTTER - REGULAR</td>\n",
              "      <td>1</td>\n",
              "    </tr>\n",
              "    <tr>\n",
              "      <th>65906</th>\n",
              "      <td>VHO CORN - BUTTER - REGULAR</td>\n",
              "      <td>1</td>\n",
              "    </tr>\n",
              "  </tbody>\n",
              "</table>\n",
              "</div>"
            ],
            "text/plain": [
              "                    CINEPLEX_Item_Description  YM_BUTTER\n",
              "65826                               <Unknown>          0\n",
              "65903       VHO CORN - POPCORN REGULAR 130oz.          0\n",
              "65904  VHO DRINK - CUP REGULAR 24 OZ FOUNTAIN          0\n",
              "65905             VHO CORN - BUTTER - REGULAR          1\n",
              "65906             VHO CORN - BUTTER - REGULAR          1"
            ]
          },
          "metadata": {
            "tags": []
          },
          "execution_count": 32
        }
      ]
    },
    {
      "cell_type": "markdown",
      "metadata": {
        "id": "gmSNPBW2p9_q"
      },
      "source": [
        "# Visit Items"
      ]
    },
    {
      "cell_type": "code",
      "metadata": {
        "colab": {
          "base_uri": "https://localhost:8080/",
          "height": 223
        },
        "id": "7hL2tevqq2Ni",
        "outputId": "6a52f566-ac15-4a09-85aa-b1ccbf1d04af"
      },
      "source": [
        "#Member Level Stats\n",
        "visit_items_summary = visits_items.groupby(['Visit_ID','CINEPLEX_D_Membership_ID']).agg(\n",
        "{\n",
        "    'YM_BUTTER': ['max'],\n",
        "})\n",
        "\n",
        "# Pandas group-by creates a MultiIndex, which we don't want. The following few lines\n",
        "# will rename the columns of the dataframe to something more reasonbale.\n",
        "visit_items_summary.columns = [\"_\".join(x) for x in visit_items_summary.columns.ravel()]\n",
        "visit_items_summary = visit_items_summary.rename(columns={'CINEPLEX_D_Membership_ID_': \"CINEPLEX_D_Membership_ID\"})\n",
        "visit_items_summary.head()"
      ],
      "execution_count": null,
      "outputs": [
        {
          "output_type": "execute_result",
          "data": {
            "text/html": [
              "<div>\n",
              "<style scoped>\n",
              "    .dataframe tbody tr th:only-of-type {\n",
              "        vertical-align: middle;\n",
              "    }\n",
              "\n",
              "    .dataframe tbody tr th {\n",
              "        vertical-align: top;\n",
              "    }\n",
              "\n",
              "    .dataframe thead th {\n",
              "        text-align: right;\n",
              "    }\n",
              "</style>\n",
              "<table border=\"1\" class=\"dataframe\">\n",
              "  <thead>\n",
              "    <tr style=\"text-align: right;\">\n",
              "      <th></th>\n",
              "      <th></th>\n",
              "      <th>YM_BUTTER_max</th>\n",
              "    </tr>\n",
              "    <tr>\n",
              "      <th>Visit_ID</th>\n",
              "      <th>CINEPLEX_D_Membership_ID</th>\n",
              "      <th></th>\n",
              "    </tr>\n",
              "  </thead>\n",
              "  <tbody>\n",
              "    <tr>\n",
              "      <th>2</th>\n",
              "      <th>23777</th>\n",
              "      <td>0</td>\n",
              "    </tr>\n",
              "    <tr>\n",
              "      <th>3</th>\n",
              "      <th>60723</th>\n",
              "      <td>1</td>\n",
              "    </tr>\n",
              "    <tr>\n",
              "      <th>4</th>\n",
              "      <th>61080</th>\n",
              "      <td>1</td>\n",
              "    </tr>\n",
              "    <tr>\n",
              "      <th>5</th>\n",
              "      <th>103538</th>\n",
              "      <td>0</td>\n",
              "    </tr>\n",
              "    <tr>\n",
              "      <th>6</th>\n",
              "      <th>120196</th>\n",
              "      <td>0</td>\n",
              "    </tr>\n",
              "  </tbody>\n",
              "</table>\n",
              "</div>"
            ],
            "text/plain": [
              "                                   YM_BUTTER_max\n",
              "Visit_ID CINEPLEX_D_Membership_ID               \n",
              "2        23777                                 0\n",
              "3        60723                                 1\n",
              "4        61080                                 1\n",
              "5        103538                                0\n",
              "6        120196                                0"
            ]
          },
          "metadata": {
            "tags": []
          },
          "execution_count": 33
        }
      ]
    },
    {
      "cell_type": "markdown",
      "metadata": {
        "id": "DcAVz21_tBEI"
      },
      "source": [
        "# **Merge all the data**"
      ]
    },
    {
      "cell_type": "code",
      "metadata": {
        "colab": {
          "base_uri": "https://localhost:8080/"
        },
        "id": "HghoPtyctGFK",
        "outputId": "3b9a7f2e-76d5-4b8c-fd30-1385cd8faf4b"
      },
      "source": [
        "visits.shape\n",
        "\n",
        "visits = pd.merge(visits,visit_items_summary[['YM_BUTTER_max']],on=['Visit_ID','CINEPLEX_D_Membership_ID'], how='left')\n",
        "visits = visits.merge(films, how=\"left\", on=\"Film_ID\")\n",
        "visits = visits.merge(experience_type, how=\"left\")\n",
        "visits = visits.merge(sales_channels, how=\"left\")\n",
        "visits = visits.merge(timeslice, left_on=\"Visit_TimeSlice_ID\", right_on=\"TimeSlice_ID\", how=\"left\")\n",
        "visits = visits.merge(locations, how=\"left\")\n",
        "visits.shape"
      ],
      "execution_count": null,
      "outputs": [
        {
          "output_type": "execute_result",
          "data": {
            "text/plain": [
              "(36258, 24)"
            ]
          },
          "metadata": {
            "tags": []
          },
          "execution_count": 34
        },
        {
          "output_type": "execute_result",
          "data": {
            "text/plain": [
              "(36258, 61)"
            ]
          },
          "metadata": {
            "tags": []
          },
          "execution_count": 34
        }
      ]
    },
    {
      "cell_type": "code",
      "metadata": {
        "id": "H8E3hT7zXRE1"
      },
      "source": [
        "visits = clean_timeslice(visits)\n",
        "visits = clean_sales_channel(visits)"
      ],
      "execution_count": null,
      "outputs": []
    },
    {
      "cell_type": "code",
      "metadata": {
        "id": "4U14QpC2teQy"
      },
      "source": [
        "# Fill in empty values on language\n",
        "visits['Market_Language'] = visits['Market_Language'].fillna('Unknown')"
      ],
      "execution_count": null,
      "outputs": []
    },
    {
      "cell_type": "code",
      "metadata": {
        "id": "0VZQyNZTtQtI"
      },
      "source": [
        "# Extract some info about the date\n",
        "visits['Visit_Date'] = pd.to_datetime(visits['Visit_Date'])\n",
        "visits['Visit_Date_DOW'] = visits['Visit_Date'].dt.day_name()\n",
        "visits['Visit_Date_Week'] = visits['Visit_Date'].dt.strftime('%U')\n",
        "visits['Visit_Date_Month'] = visits['Visit_Date'].dt.month_name()\n",
        "visits['Visit_Date_IsWeekend'] = np.where(visits['Visit_Date'].dt.weekday < 5, 0, 1)\n",
        "\n"
      ],
      "execution_count": null,
      "outputs": []
    },
    {
      "cell_type": "code",
      "metadata": {
        "id": "PUi7VBVUtk_T",
        "colab": {
          "base_uri": "https://localhost:8080/",
          "height": 350
        },
        "outputId": "4afe9699-c426-4bfa-82d2-ff3a62300295"
      },
      "source": [
        "visits.head()\n",
        "visits.shape"
      ],
      "execution_count": null,
      "outputs": [
        {
          "output_type": "execute_result",
          "data": {
            "text/html": [
              "<div>\n",
              "<style scoped>\n",
              "    .dataframe tbody tr th:only-of-type {\n",
              "        vertical-align: middle;\n",
              "    }\n",
              "\n",
              "    .dataframe tbody tr th {\n",
              "        vertical-align: top;\n",
              "    }\n",
              "\n",
              "    .dataframe thead th {\n",
              "        text-align: right;\n",
              "    }\n",
              "</style>\n",
              "<table border=\"1\" class=\"dataframe\">\n",
              "  <thead>\n",
              "    <tr style=\"text-align: right;\">\n",
              "      <th></th>\n",
              "      <th>Visit_ID</th>\n",
              "      <th>CINEPLEX_D_Membership_ID</th>\n",
              "      <th>Visit_Date</th>\n",
              "      <th>Location_ID</th>\n",
              "      <th>Auditorium_Experience_ID</th>\n",
              "      <th>Film_ID</th>\n",
              "      <th>Seating_Experience_ID</th>\n",
              "      <th>Sales_Channel_ID</th>\n",
              "      <th>Performance_Experience_ID</th>\n",
              "      <th>Performance_Type_ID</th>\n",
              "      <th>Spend</th>\n",
              "      <th>Revenue</th>\n",
              "      <th>Points_Earned</th>\n",
              "      <th>Points_Redeemed</th>\n",
              "      <th>Discount</th>\n",
              "      <th>Has_US_Is_LrgPopcorn</th>\n",
              "      <th>Has_US_Is_Butter</th>\n",
              "      <th>Has_US_Is_Alcohol</th>\n",
              "      <th>Has_US_Is_Candy</th>\n",
              "      <th>Has_US_Is_Coffee</th>\n",
              "      <th>Has_US_Is_Kiddietray</th>\n",
              "      <th>Has_US_Is_Voucher</th>\n",
              "      <th>Has_US_Is_MenuFood</th>\n",
              "      <th>YM_BUTTER_max</th>\n",
              "      <th>Film_Title</th>\n",
              "      <th>Title_ID</th>\n",
              "      <th>Title_Name</th>\n",
              "      <th>Theatrical_Release_Date</th>\n",
              "      <th>Film_Runtime</th>\n",
              "      <th>Language</th>\n",
              "      <th>Market_Language</th>\n",
              "      <th>Release_Pattern</th>\n",
              "      <th>Performance_Type</th>\n",
              "      <th>Is_IMAX</th>\n",
              "      <th>Is_DBOX_Capable</th>\n",
              "      <th>Release_Status</th>\n",
              "      <th>Media_Class_Description</th>\n",
              "      <th>Is_4Dx</th>\n",
              "      <th>Genre_Hierarchy_1</th>\n",
              "      <th>Auditorium_Experience_Description</th>\n",
              "      <th>Is_Premium</th>\n",
              "      <th>Sales_Channel</th>\n",
              "      <th>TimeSlice_Description</th>\n",
              "      <th>Location_Name</th>\n",
              "      <th>Location_Short_Name</th>\n",
              "      <th>Location_Interactive_Name</th>\n",
              "      <th>Address1</th>\n",
              "      <th>City</th>\n",
              "      <th>Province_CD</th>\n",
              "      <th>Postal_Code</th>\n",
              "      <th>Country_CD</th>\n",
              "      <th>Is_VIP</th>\n",
              "      <th>Is_Outtakes</th>\n",
              "      <th>Is_Licensed_Bar</th>\n",
              "      <th>Is_Licensed_Lounge</th>\n",
              "      <th>TimeSlice_Hour_AMPM</th>\n",
              "      <th>Sales_Channel_Breakdown</th>\n",
              "      <th>Sales_Channel_Online</th>\n",
              "      <th>Visit_Date_DOW</th>\n",
              "      <th>Visit_Date_Week</th>\n",
              "      <th>Visit_Date_Month</th>\n",
              "      <th>Visit_Date_IsWeekend</th>\n",
              "    </tr>\n",
              "  </thead>\n",
              "  <tbody>\n",
              "    <tr>\n",
              "      <th>0</th>\n",
              "      <td>2</td>\n",
              "      <td>23777</td>\n",
              "      <td>2019-01-01</td>\n",
              "      <td>7253</td>\n",
              "      <td>1</td>\n",
              "      <td>28757</td>\n",
              "      <td>1</td>\n",
              "      <td>8</td>\n",
              "      <td>1</td>\n",
              "      <td>1</td>\n",
              "      <td>15.0400</td>\n",
              "      <td>15.0400</td>\n",
              "      <td>100</td>\n",
              "      <td>0</td>\n",
              "      <td>1.6800</td>\n",
              "      <td>0</td>\n",
              "      <td>0</td>\n",
              "      <td>0</td>\n",
              "      <td>0</td>\n",
              "      <td>0</td>\n",
              "      <td>0</td>\n",
              "      <td>0</td>\n",
              "      <td>0</td>\n",
              "      <td>0</td>\n",
              "      <td>Vice</td>\n",
              "      <td>23956.0000</td>\n",
              "      <td>Vice</td>\n",
              "      <td>12/25/2018</td>\n",
              "      <td>133.0000</td>\n",
              "      <td>English</td>\n",
              "      <td>English</td>\n",
              "      <td>Wide</td>\n",
              "      <td>Film Presentation</td>\n",
              "      <td>0</td>\n",
              "      <td>0</td>\n",
              "      <td>A</td>\n",
              "      <td>Adult</td>\n",
              "      <td>0.0000</td>\n",
              "      <td>Drama</td>\n",
              "      <td>Regular</td>\n",
              "      <td>0</td>\n",
              "      <td>Point of Sale</td>\n",
              "      <td>1 - Early Matinee</td>\n",
              "      <td>CPX Eglinton T.C.</td>\n",
              "      <td>Warden&amp;Eglin</td>\n",
              "      <td>Cineplex Odeon Eglinton Town Centre Cinemas</td>\n",
              "      <td>22 Lebovic Avenue</td>\n",
              "      <td>Toronto</td>\n",
              "      <td>ON</td>\n",
              "      <td>M1L 4V9</td>\n",
              "      <td>CA</td>\n",
              "      <td>0</td>\n",
              "      <td>1</td>\n",
              "      <td>1</td>\n",
              "      <td>0</td>\n",
              "      <td>PM</td>\n",
              "      <td>Sales_MainStore</td>\n",
              "      <td>0</td>\n",
              "      <td>Tuesday</td>\n",
              "      <td>00</td>\n",
              "      <td>January</td>\n",
              "      <td>0</td>\n",
              "    </tr>\n",
              "    <tr>\n",
              "      <th>1</th>\n",
              "      <td>3</td>\n",
              "      <td>60723</td>\n",
              "      <td>2019-01-01</td>\n",
              "      <td>7123</td>\n",
              "      <td>0</td>\n",
              "      <td>0</td>\n",
              "      <td>0</td>\n",
              "      <td>8</td>\n",
              "      <td>0</td>\n",
              "      <td>0</td>\n",
              "      <td>29.6100</td>\n",
              "      <td>29.6100</td>\n",
              "      <td>297</td>\n",
              "      <td>0</td>\n",
              "      <td>3.2900</td>\n",
              "      <td>0</td>\n",
              "      <td>1</td>\n",
              "      <td>0</td>\n",
              "      <td>0</td>\n",
              "      <td>0</td>\n",
              "      <td>0</td>\n",
              "      <td>1</td>\n",
              "      <td>1</td>\n",
              "      <td>1</td>\n",
              "      <td>&lt;None&gt;</td>\n",
              "      <td>0.0000</td>\n",
              "      <td>&lt;None&gt;</td>\n",
              "      <td>1/1/1900</td>\n",
              "      <td>0.0000</td>\n",
              "      <td>&lt;None&gt;</td>\n",
              "      <td>&lt;None&gt;</td>\n",
              "      <td>&lt;None&gt;</td>\n",
              "      <td>&lt;None&gt;</td>\n",
              "      <td>0</td>\n",
              "      <td>0</td>\n",
              "      <td>B</td>\n",
              "      <td>None</td>\n",
              "      <td>0.0000</td>\n",
              "      <td>Unknown</td>\n",
              "      <td>&lt;Unknown&gt;</td>\n",
              "      <td>0</td>\n",
              "      <td>Point of Sale</td>\n",
              "      <td>1 - Early Matinee</td>\n",
              "      <td>CPX Winston Churchill VIP</td>\n",
              "      <td>Winston Churchill</td>\n",
              "      <td>Cineplex Cinemas Winston Churchill &amp; VIP</td>\n",
              "      <td>2081 Winston Park Dr.</td>\n",
              "      <td>Oakville</td>\n",
              "      <td>ON</td>\n",
              "      <td>L6H 6P5</td>\n",
              "      <td>CA</td>\n",
              "      <td>1</td>\n",
              "      <td>1</td>\n",
              "      <td>1</td>\n",
              "      <td>0</td>\n",
              "      <td>PM</td>\n",
              "      <td>Sales_MainStore</td>\n",
              "      <td>0</td>\n",
              "      <td>Tuesday</td>\n",
              "      <td>00</td>\n",
              "      <td>January</td>\n",
              "      <td>0</td>\n",
              "    </tr>\n",
              "    <tr>\n",
              "      <th>2</th>\n",
              "      <td>4</td>\n",
              "      <td>61080</td>\n",
              "      <td>2019-01-01</td>\n",
              "      <td>7290</td>\n",
              "      <td>2</td>\n",
              "      <td>24899</td>\n",
              "      <td>2</td>\n",
              "      <td>8</td>\n",
              "      <td>2</td>\n",
              "      <td>1</td>\n",
              "      <td>28.4000</td>\n",
              "      <td>28.4000</td>\n",
              "      <td>235</td>\n",
              "      <td>0</td>\n",
              "      <td>3.1600</td>\n",
              "      <td>1</td>\n",
              "      <td>1</td>\n",
              "      <td>0</td>\n",
              "      <td>0</td>\n",
              "      <td>0</td>\n",
              "      <td>0</td>\n",
              "      <td>0</td>\n",
              "      <td>0</td>\n",
              "      <td>1</td>\n",
              "      <td>Aquaman</td>\n",
              "      <td>22133.0000</td>\n",
              "      <td>Aquaman</td>\n",
              "      <td>12/21/2018</td>\n",
              "      <td>143.0000</td>\n",
              "      <td>English</td>\n",
              "      <td>English</td>\n",
              "      <td>Wide</td>\n",
              "      <td>Film Presentation</td>\n",
              "      <td>0</td>\n",
              "      <td>1</td>\n",
              "      <td>A</td>\n",
              "      <td>Adult</td>\n",
              "      <td>0.0000</td>\n",
              "      <td>Adaptation</td>\n",
              "      <td>AVX</td>\n",
              "      <td>1</td>\n",
              "      <td>Point of Sale</td>\n",
              "      <td>1 - Early Matinee</td>\n",
              "      <td>CPX Hamilton Mountain</td>\n",
              "      <td>CPX Hamilton</td>\n",
              "      <td>Cineplex Cinemas Hamilton Mountain</td>\n",
              "      <td>795 Paramount Drive</td>\n",
              "      <td>Stoney Creek</td>\n",
              "      <td>ON</td>\n",
              "      <td>L8J 0B4</td>\n",
              "      <td>CA</td>\n",
              "      <td>0</td>\n",
              "      <td>1</td>\n",
              "      <td>1</td>\n",
              "      <td>0</td>\n",
              "      <td>PM</td>\n",
              "      <td>Sales_MainStore</td>\n",
              "      <td>0</td>\n",
              "      <td>Tuesday</td>\n",
              "      <td>00</td>\n",
              "      <td>January</td>\n",
              "      <td>0</td>\n",
              "    </tr>\n",
              "    <tr>\n",
              "      <th>3</th>\n",
              "      <td>5</td>\n",
              "      <td>103538</td>\n",
              "      <td>2019-01-01</td>\n",
              "      <td>1142</td>\n",
              "      <td>1</td>\n",
              "      <td>24977</td>\n",
              "      <td>1</td>\n",
              "      <td>2</td>\n",
              "      <td>1</td>\n",
              "      <td>1</td>\n",
              "      <td>0.0000</td>\n",
              "      <td>10.0000</td>\n",
              "      <td>0</td>\n",
              "      <td>1000</td>\n",
              "      <td>0.0000</td>\n",
              "      <td>0</td>\n",
              "      <td>0</td>\n",
              "      <td>0</td>\n",
              "      <td>0</td>\n",
              "      <td>0</td>\n",
              "      <td>0</td>\n",
              "      <td>0</td>\n",
              "      <td>0</td>\n",
              "      <td>0</td>\n",
              "      <td>Mary Poppins Returns</td>\n",
              "      <td>22187.0000</td>\n",
              "      <td>Mary Poppins Returns</td>\n",
              "      <td>12/19/2018</td>\n",
              "      <td>131.0000</td>\n",
              "      <td>English</td>\n",
              "      <td>English</td>\n",
              "      <td>Wide</td>\n",
              "      <td>Film Presentation</td>\n",
              "      <td>0</td>\n",
              "      <td>1</td>\n",
              "      <td>A</td>\n",
              "      <td>Family</td>\n",
              "      <td>0.0000</td>\n",
              "      <td>Comedy</td>\n",
              "      <td>Regular</td>\n",
              "      <td>0</td>\n",
              "      <td>Kiosk</td>\n",
              "      <td>1 - Early Matinee</td>\n",
              "      <td>CPX Pitt Meadows</td>\n",
              "      <td>Meadowtown</td>\n",
              "      <td>Cineplex Odeon Meadowtown Cinemas</td>\n",
              "      <td>#410, 19800 Lougheed Highway</td>\n",
              "      <td>Pitt Meadows</td>\n",
              "      <td>BC</td>\n",
              "      <td>V3Y 2W1</td>\n",
              "      <td>CA</td>\n",
              "      <td>0</td>\n",
              "      <td>1</td>\n",
              "      <td>0</td>\n",
              "      <td>0</td>\n",
              "      <td>PM</td>\n",
              "      <td>Sales_MainKiosk</td>\n",
              "      <td>0</td>\n",
              "      <td>Tuesday</td>\n",
              "      <td>00</td>\n",
              "      <td>January</td>\n",
              "      <td>0</td>\n",
              "    </tr>\n",
              "    <tr>\n",
              "      <th>4</th>\n",
              "      <td>6</td>\n",
              "      <td>120196</td>\n",
              "      <td>2019-01-01</td>\n",
              "      <td>9181</td>\n",
              "      <td>1</td>\n",
              "      <td>29694</td>\n",
              "      <td>1</td>\n",
              "      <td>2</td>\n",
              "      <td>1</td>\n",
              "      <td>1</td>\n",
              "      <td>17.6100</td>\n",
              "      <td>17.6100</td>\n",
              "      <td>100</td>\n",
              "      <td>0</td>\n",
              "      <td>1.9500</td>\n",
              "      <td>0</td>\n",
              "      <td>0</td>\n",
              "      <td>0</td>\n",
              "      <td>0</td>\n",
              "      <td>0</td>\n",
              "      <td>0</td>\n",
              "      <td>0</td>\n",
              "      <td>0</td>\n",
              "      <td>0</td>\n",
              "      <td>DeuxiÂme acte</td>\n",
              "      <td>23976.0000</td>\n",
              "      <td>Second Act</td>\n",
              "      <td>12/21/2018</td>\n",
              "      <td>104.0000</td>\n",
              "      <td>French</td>\n",
              "      <td>French</td>\n",
              "      <td>Wide</td>\n",
              "      <td>Film Presentation</td>\n",
              "      <td>0</td>\n",
              "      <td>0</td>\n",
              "      <td>A</td>\n",
              "      <td>Adult</td>\n",
              "      <td>0.0000</td>\n",
              "      <td>Comedy</td>\n",
              "      <td>Regular</td>\n",
              "      <td>0</td>\n",
              "      <td>Kiosk</td>\n",
              "      <td>2 - Late Matinee</td>\n",
              "      <td>CPX Beauport</td>\n",
              "      <td>Beauport</td>\n",
              "      <td>CinÂma Cineplex Odeon Beauport</td>\n",
              "      <td>825 rue ClÂmenceau</td>\n",
              "      <td>Beauport</td>\n",
              "      <td>QC</td>\n",
              "      <td>G1C 2K6</td>\n",
              "      <td>CA</td>\n",
              "      <td>0</td>\n",
              "      <td>0</td>\n",
              "      <td>0</td>\n",
              "      <td>0</td>\n",
              "      <td>PM</td>\n",
              "      <td>Sales_MainKiosk</td>\n",
              "      <td>0</td>\n",
              "      <td>Tuesday</td>\n",
              "      <td>00</td>\n",
              "      <td>January</td>\n",
              "      <td>0</td>\n",
              "    </tr>\n",
              "  </tbody>\n",
              "</table>\n",
              "</div>"
            ],
            "text/plain": [
              "   Visit_ID  CINEPLEX_D_Membership_ID Visit_Date  Location_ID  \\\n",
              "0         2                     23777 2019-01-01         7253   \n",
              "1         3                     60723 2019-01-01         7123   \n",
              "2         4                     61080 2019-01-01         7290   \n",
              "3         5                    103538 2019-01-01         1142   \n",
              "4         6                    120196 2019-01-01         9181   \n",
              "\n",
              "   Auditorium_Experience_ID  Film_ID  Seating_Experience_ID  Sales_Channel_ID  \\\n",
              "0                         1    28757                      1                 8   \n",
              "1                         0        0                      0                 8   \n",
              "2                         2    24899                      2                 8   \n",
              "3                         1    24977                      1                 2   \n",
              "4                         1    29694                      1                 2   \n",
              "\n",
              "   Performance_Experience_ID  Performance_Type_ID   Spend  Revenue  \\\n",
              "0                          1                    1 15.0400  15.0400   \n",
              "1                          0                    0 29.6100  29.6100   \n",
              "2                          2                    1 28.4000  28.4000   \n",
              "3                          1                    1  0.0000  10.0000   \n",
              "4                          1                    1 17.6100  17.6100   \n",
              "\n",
              "   Points_Earned  Points_Redeemed  Discount  Has_US_Is_LrgPopcorn  \\\n",
              "0            100                0    1.6800                     0   \n",
              "1            297                0    3.2900                     0   \n",
              "2            235                0    3.1600                     1   \n",
              "3              0             1000    0.0000                     0   \n",
              "4            100                0    1.9500                     0   \n",
              "\n",
              "   Has_US_Is_Butter  Has_US_Is_Alcohol  Has_US_Is_Candy  Has_US_Is_Coffee  \\\n",
              "0                 0                  0                0                 0   \n",
              "1                 1                  0                0                 0   \n",
              "2                 1                  0                0                 0   \n",
              "3                 0                  0                0                 0   \n",
              "4                 0                  0                0                 0   \n",
              "\n",
              "   Has_US_Is_Kiddietray  Has_US_Is_Voucher  Has_US_Is_MenuFood  YM_BUTTER_max  \\\n",
              "0                     0                  0                   0              0   \n",
              "1                     0                  1                   1              1   \n",
              "2                     0                  0                   0              1   \n",
              "3                     0                  0                   0              0   \n",
              "4                     0                  0                   0              0   \n",
              "\n",
              "             Film_Title   Title_ID            Title_Name  \\\n",
              "0                  Vice 23956.0000                  Vice   \n",
              "1                <None>     0.0000                <None>   \n",
              "2               Aquaman 22133.0000               Aquaman   \n",
              "3  Mary Poppins Returns 22187.0000  Mary Poppins Returns   \n",
              "4        DeuxiÂme acte 23976.0000            Second Act   \n",
              "\n",
              "  Theatrical_Release_Date  Film_Runtime Language Market_Language  \\\n",
              "0              12/25/2018      133.0000  English         English   \n",
              "1                1/1/1900        0.0000   <None>          <None>   \n",
              "2              12/21/2018      143.0000  English         English   \n",
              "3              12/19/2018      131.0000  English         English   \n",
              "4              12/21/2018      104.0000   French          French   \n",
              "\n",
              "  Release_Pattern   Performance_Type Is_IMAX Is_DBOX_Capable Release_Status  \\\n",
              "0            Wide  Film Presentation       0               0              A   \n",
              "1          <None>             <None>       0               0              B   \n",
              "2            Wide  Film Presentation       0               1              A   \n",
              "3            Wide  Film Presentation       0               1              A   \n",
              "4            Wide  Film Presentation       0               0              A   \n",
              "\n",
              "  Media_Class_Description  Is_4Dx Genre_Hierarchy_1  \\\n",
              "0                   Adult  0.0000             Drama   \n",
              "1                    None  0.0000           Unknown   \n",
              "2                   Adult  0.0000        Adaptation   \n",
              "3                  Family  0.0000            Comedy   \n",
              "4                   Adult  0.0000            Comedy   \n",
              "\n",
              "  Auditorium_Experience_Description  Is_Premium  Sales_Channel  \\\n",
              "0                           Regular           0  Point of Sale   \n",
              "1                         <Unknown>           0  Point of Sale   \n",
              "2                               AVX           1  Point of Sale   \n",
              "3                           Regular           0          Kiosk   \n",
              "4                           Regular           0          Kiosk   \n",
              "\n",
              "  TimeSlice_Description              Location_Name Location_Short_Name  \\\n",
              "0     1 - Early Matinee          CPX Eglinton T.C.        Warden&Eglin   \n",
              "1     1 - Early Matinee  CPX Winston Churchill VIP   Winston Churchill   \n",
              "2     1 - Early Matinee      CPX Hamilton Mountain        CPX Hamilton   \n",
              "3     1 - Early Matinee           CPX Pitt Meadows          Meadowtown   \n",
              "4      2 - Late Matinee               CPX Beauport            Beauport   \n",
              "\n",
              "                     Location_Interactive_Name                      Address1  \\\n",
              "0  Cineplex Odeon Eglinton Town Centre Cinemas           22 Lebovic Avenue     \n",
              "1     Cineplex Cinemas Winston Churchill & VIP         2081 Winston Park Dr.   \n",
              "2           Cineplex Cinemas Hamilton Mountain           795 Paramount Drive   \n",
              "3            Cineplex Odeon Meadowtown Cinemas  #410, 19800 Lougheed Highway   \n",
              "4              CinÂma Cineplex Odeon Beauport           825 rue ClÂmenceau   \n",
              "\n",
              "           City Province_CD Postal_Code Country_CD  Is_VIP  Is_Outtakes  \\\n",
              "0       Toronto          ON     M1L 4V9         CA       0            1   \n",
              "1      Oakville          ON     L6H 6P5         CA       1            1   \n",
              "2  Stoney Creek          ON     L8J 0B4         CA       0            1   \n",
              "3  Pitt Meadows          BC     V3Y 2W1         CA       0            1   \n",
              "4      Beauport          QC     G1C 2K6         CA       0            0   \n",
              "\n",
              "   Is_Licensed_Bar  Is_Licensed_Lounge TimeSlice_Hour_AMPM  \\\n",
              "0                1                   0                  PM   \n",
              "1                1                   0                  PM   \n",
              "2                1                   0                  PM   \n",
              "3                0                   0                  PM   \n",
              "4                0                   0                  PM   \n",
              "\n",
              "  Sales_Channel_Breakdown  Sales_Channel_Online Visit_Date_DOW  \\\n",
              "0         Sales_MainStore                     0        Tuesday   \n",
              "1         Sales_MainStore                     0        Tuesday   \n",
              "2         Sales_MainStore                     0        Tuesday   \n",
              "3         Sales_MainKiosk                     0        Tuesday   \n",
              "4         Sales_MainKiosk                     0        Tuesday   \n",
              "\n",
              "  Visit_Date_Week Visit_Date_Month  Visit_Date_IsWeekend  \n",
              "0              00          January                     0  \n",
              "1              00          January                     0  \n",
              "2              00          January                     0  \n",
              "3              00          January                     0  \n",
              "4              00          January                     0  "
            ]
          },
          "metadata": {
            "tags": []
          },
          "execution_count": 38
        },
        {
          "output_type": "execute_result",
          "data": {
            "text/plain": [
              "(36258, 62)"
            ]
          },
          "metadata": {
            "tags": []
          },
          "execution_count": 38
        }
      ]
    },
    {
      "cell_type": "code",
      "metadata": {
        "id": "c7_NZkHPtym5"
      },
      "source": [
        "# Need to remove everything we know about this visit\n",
        "\n",
        "# `df` will act as the main training data. \n",
        "# Think of `df` as \"what will be available during prediction time\" and `visits` as `historical information from which we can engineer\n",
        "# features. \n",
        "# This `df` will be the same as visits, except with columsn removed that either (a) would not be available\n",
        "X = visits.copy()\n",
        "\n",
        "remove_cols = [\n",
        "\n",
        "            # Can't have these (won't be available in future)\n",
        "           'Visit_Date','Film_ID','Spend', 'Revenue', 'Points_Earned', 'Points_Redeemed', 'Discount',\n",
        "           'Has_US_Is_LrgPopcorn', 'Has_US_Is_Butter', 'Has_US_Is_Alcohol', 'Has_US_Is_Candy',\n",
        "           'Has_US_Is_Coffee', 'Has_US_Is_Kiddietray', 'Has_US_Is_Voucher', 'Has_US_Is_MenuFood',\n",
        "            'Spend','Discount','Revenue','Points_Earned','Points_Redeemed','YM_BUTTER_max',\n",
        "    \n",
        "            # Don't want these (won't be helpful, I don't think.)\n",
        "    \n",
        "           'Film_Title', 'Title_Name', 'Theatrical_Release_Date', 'Release_Status', 'Release_Pattern', 'Title_ID', \n",
        "           'Location_Name', 'Location_Short_Name', 'Location_Interactive_Name',\n",
        "           'Address1', 'Postal_Code','Country_CD','City',\n",
        "          ]  \n",
        "\n",
        "X = X.drop(remove_cols, axis=1)"
      ],
      "execution_count": null,
      "outputs": []
    },
    {
      "cell_type": "code",
      "metadata": {
        "id": "mBdy6WUuz5Ih",
        "colab": {
          "base_uri": "https://localhost:8080/",
          "height": 232
        },
        "outputId": "f1064e00-e1d4-4fb4-c54a-2793582e0d73"
      },
      "source": [
        "X['Is_IMAX'] = X['Is_IMAX'].astype('int')\n",
        "X['Is_DBOX_Capable'] = X['Is_DBOX_Capable'].astype('int')\n",
        "X['Visit_Date_Week'] = X['Visit_Date_Week'].astype('int')\n",
        "X.head()\n",
        "X.shape"
      ],
      "execution_count": null,
      "outputs": [
        {
          "output_type": "execute_result",
          "data": {
            "text/html": [
              "<div>\n",
              "<style scoped>\n",
              "    .dataframe tbody tr th:only-of-type {\n",
              "        vertical-align: middle;\n",
              "    }\n",
              "\n",
              "    .dataframe tbody tr th {\n",
              "        vertical-align: top;\n",
              "    }\n",
              "\n",
              "    .dataframe thead th {\n",
              "        text-align: right;\n",
              "    }\n",
              "</style>\n",
              "<table border=\"1\" class=\"dataframe\">\n",
              "  <thead>\n",
              "    <tr style=\"text-align: right;\">\n",
              "      <th></th>\n",
              "      <th>Visit_ID</th>\n",
              "      <th>CINEPLEX_D_Membership_ID</th>\n",
              "      <th>Location_ID</th>\n",
              "      <th>Auditorium_Experience_ID</th>\n",
              "      <th>Seating_Experience_ID</th>\n",
              "      <th>Sales_Channel_ID</th>\n",
              "      <th>Performance_Experience_ID</th>\n",
              "      <th>Performance_Type_ID</th>\n",
              "      <th>Film_Runtime</th>\n",
              "      <th>Language</th>\n",
              "      <th>Market_Language</th>\n",
              "      <th>Performance_Type</th>\n",
              "      <th>Is_IMAX</th>\n",
              "      <th>Is_DBOX_Capable</th>\n",
              "      <th>Media_Class_Description</th>\n",
              "      <th>Is_4Dx</th>\n",
              "      <th>Genre_Hierarchy_1</th>\n",
              "      <th>Auditorium_Experience_Description</th>\n",
              "      <th>Is_Premium</th>\n",
              "      <th>Sales_Channel</th>\n",
              "      <th>TimeSlice_Description</th>\n",
              "      <th>Province_CD</th>\n",
              "      <th>Is_VIP</th>\n",
              "      <th>Is_Outtakes</th>\n",
              "      <th>Is_Licensed_Bar</th>\n",
              "      <th>Is_Licensed_Lounge</th>\n",
              "      <th>TimeSlice_Hour_AMPM</th>\n",
              "      <th>Sales_Channel_Breakdown</th>\n",
              "      <th>Sales_Channel_Online</th>\n",
              "      <th>Visit_Date_DOW</th>\n",
              "      <th>Visit_Date_Week</th>\n",
              "      <th>Visit_Date_Month</th>\n",
              "      <th>Visit_Date_IsWeekend</th>\n",
              "    </tr>\n",
              "  </thead>\n",
              "  <tbody>\n",
              "    <tr>\n",
              "      <th>0</th>\n",
              "      <td>2</td>\n",
              "      <td>23777</td>\n",
              "      <td>7253</td>\n",
              "      <td>1</td>\n",
              "      <td>1</td>\n",
              "      <td>8</td>\n",
              "      <td>1</td>\n",
              "      <td>1</td>\n",
              "      <td>133.0000</td>\n",
              "      <td>English</td>\n",
              "      <td>English</td>\n",
              "      <td>Film Presentation</td>\n",
              "      <td>0</td>\n",
              "      <td>0</td>\n",
              "      <td>Adult</td>\n",
              "      <td>0.0000</td>\n",
              "      <td>Drama</td>\n",
              "      <td>Regular</td>\n",
              "      <td>0</td>\n",
              "      <td>Point of Sale</td>\n",
              "      <td>1 - Early Matinee</td>\n",
              "      <td>ON</td>\n",
              "      <td>0</td>\n",
              "      <td>1</td>\n",
              "      <td>1</td>\n",
              "      <td>0</td>\n",
              "      <td>PM</td>\n",
              "      <td>Sales_MainStore</td>\n",
              "      <td>0</td>\n",
              "      <td>Tuesday</td>\n",
              "      <td>0</td>\n",
              "      <td>January</td>\n",
              "      <td>0</td>\n",
              "    </tr>\n",
              "    <tr>\n",
              "      <th>1</th>\n",
              "      <td>3</td>\n",
              "      <td>60723</td>\n",
              "      <td>7123</td>\n",
              "      <td>0</td>\n",
              "      <td>0</td>\n",
              "      <td>8</td>\n",
              "      <td>0</td>\n",
              "      <td>0</td>\n",
              "      <td>0.0000</td>\n",
              "      <td>&lt;None&gt;</td>\n",
              "      <td>&lt;None&gt;</td>\n",
              "      <td>&lt;None&gt;</td>\n",
              "      <td>0</td>\n",
              "      <td>0</td>\n",
              "      <td>None</td>\n",
              "      <td>0.0000</td>\n",
              "      <td>Unknown</td>\n",
              "      <td>&lt;Unknown&gt;</td>\n",
              "      <td>0</td>\n",
              "      <td>Point of Sale</td>\n",
              "      <td>1 - Early Matinee</td>\n",
              "      <td>ON</td>\n",
              "      <td>1</td>\n",
              "      <td>1</td>\n",
              "      <td>1</td>\n",
              "      <td>0</td>\n",
              "      <td>PM</td>\n",
              "      <td>Sales_MainStore</td>\n",
              "      <td>0</td>\n",
              "      <td>Tuesday</td>\n",
              "      <td>0</td>\n",
              "      <td>January</td>\n",
              "      <td>0</td>\n",
              "    </tr>\n",
              "    <tr>\n",
              "      <th>2</th>\n",
              "      <td>4</td>\n",
              "      <td>61080</td>\n",
              "      <td>7290</td>\n",
              "      <td>2</td>\n",
              "      <td>2</td>\n",
              "      <td>8</td>\n",
              "      <td>2</td>\n",
              "      <td>1</td>\n",
              "      <td>143.0000</td>\n",
              "      <td>English</td>\n",
              "      <td>English</td>\n",
              "      <td>Film Presentation</td>\n",
              "      <td>0</td>\n",
              "      <td>1</td>\n",
              "      <td>Adult</td>\n",
              "      <td>0.0000</td>\n",
              "      <td>Adaptation</td>\n",
              "      <td>AVX</td>\n",
              "      <td>1</td>\n",
              "      <td>Point of Sale</td>\n",
              "      <td>1 - Early Matinee</td>\n",
              "      <td>ON</td>\n",
              "      <td>0</td>\n",
              "      <td>1</td>\n",
              "      <td>1</td>\n",
              "      <td>0</td>\n",
              "      <td>PM</td>\n",
              "      <td>Sales_MainStore</td>\n",
              "      <td>0</td>\n",
              "      <td>Tuesday</td>\n",
              "      <td>0</td>\n",
              "      <td>January</td>\n",
              "      <td>0</td>\n",
              "    </tr>\n",
              "    <tr>\n",
              "      <th>3</th>\n",
              "      <td>5</td>\n",
              "      <td>103538</td>\n",
              "      <td>1142</td>\n",
              "      <td>1</td>\n",
              "      <td>1</td>\n",
              "      <td>2</td>\n",
              "      <td>1</td>\n",
              "      <td>1</td>\n",
              "      <td>131.0000</td>\n",
              "      <td>English</td>\n",
              "      <td>English</td>\n",
              "      <td>Film Presentation</td>\n",
              "      <td>0</td>\n",
              "      <td>1</td>\n",
              "      <td>Family</td>\n",
              "      <td>0.0000</td>\n",
              "      <td>Comedy</td>\n",
              "      <td>Regular</td>\n",
              "      <td>0</td>\n",
              "      <td>Kiosk</td>\n",
              "      <td>1 - Early Matinee</td>\n",
              "      <td>BC</td>\n",
              "      <td>0</td>\n",
              "      <td>1</td>\n",
              "      <td>0</td>\n",
              "      <td>0</td>\n",
              "      <td>PM</td>\n",
              "      <td>Sales_MainKiosk</td>\n",
              "      <td>0</td>\n",
              "      <td>Tuesday</td>\n",
              "      <td>0</td>\n",
              "      <td>January</td>\n",
              "      <td>0</td>\n",
              "    </tr>\n",
              "    <tr>\n",
              "      <th>4</th>\n",
              "      <td>6</td>\n",
              "      <td>120196</td>\n",
              "      <td>9181</td>\n",
              "      <td>1</td>\n",
              "      <td>1</td>\n",
              "      <td>2</td>\n",
              "      <td>1</td>\n",
              "      <td>1</td>\n",
              "      <td>104.0000</td>\n",
              "      <td>French</td>\n",
              "      <td>French</td>\n",
              "      <td>Film Presentation</td>\n",
              "      <td>0</td>\n",
              "      <td>0</td>\n",
              "      <td>Adult</td>\n",
              "      <td>0.0000</td>\n",
              "      <td>Comedy</td>\n",
              "      <td>Regular</td>\n",
              "      <td>0</td>\n",
              "      <td>Kiosk</td>\n",
              "      <td>2 - Late Matinee</td>\n",
              "      <td>QC</td>\n",
              "      <td>0</td>\n",
              "      <td>0</td>\n",
              "      <td>0</td>\n",
              "      <td>0</td>\n",
              "      <td>PM</td>\n",
              "      <td>Sales_MainKiosk</td>\n",
              "      <td>0</td>\n",
              "      <td>Tuesday</td>\n",
              "      <td>0</td>\n",
              "      <td>January</td>\n",
              "      <td>0</td>\n",
              "    </tr>\n",
              "  </tbody>\n",
              "</table>\n",
              "</div>"
            ],
            "text/plain": [
              "   Visit_ID  CINEPLEX_D_Membership_ID  Location_ID  Auditorium_Experience_ID  \\\n",
              "0         2                     23777         7253                         1   \n",
              "1         3                     60723         7123                         0   \n",
              "2         4                     61080         7290                         2   \n",
              "3         5                    103538         1142                         1   \n",
              "4         6                    120196         9181                         1   \n",
              "\n",
              "   Seating_Experience_ID  Sales_Channel_ID  Performance_Experience_ID  \\\n",
              "0                      1                 8                          1   \n",
              "1                      0                 8                          0   \n",
              "2                      2                 8                          2   \n",
              "3                      1                 2                          1   \n",
              "4                      1                 2                          1   \n",
              "\n",
              "   Performance_Type_ID  Film_Runtime Language Market_Language  \\\n",
              "0                    1      133.0000  English         English   \n",
              "1                    0        0.0000   <None>          <None>   \n",
              "2                    1      143.0000  English         English   \n",
              "3                    1      131.0000  English         English   \n",
              "4                    1      104.0000   French          French   \n",
              "\n",
              "    Performance_Type  Is_IMAX  Is_DBOX_Capable Media_Class_Description  \\\n",
              "0  Film Presentation        0                0                   Adult   \n",
              "1             <None>        0                0                    None   \n",
              "2  Film Presentation        0                1                   Adult   \n",
              "3  Film Presentation        0                1                  Family   \n",
              "4  Film Presentation        0                0                   Adult   \n",
              "\n",
              "   Is_4Dx Genre_Hierarchy_1 Auditorium_Experience_Description  Is_Premium  \\\n",
              "0  0.0000             Drama                           Regular           0   \n",
              "1  0.0000           Unknown                         <Unknown>           0   \n",
              "2  0.0000        Adaptation                               AVX           1   \n",
              "3  0.0000            Comedy                           Regular           0   \n",
              "4  0.0000            Comedy                           Regular           0   \n",
              "\n",
              "   Sales_Channel TimeSlice_Description Province_CD  Is_VIP  Is_Outtakes  \\\n",
              "0  Point of Sale     1 - Early Matinee          ON       0            1   \n",
              "1  Point of Sale     1 - Early Matinee          ON       1            1   \n",
              "2  Point of Sale     1 - Early Matinee          ON       0            1   \n",
              "3          Kiosk     1 - Early Matinee          BC       0            1   \n",
              "4          Kiosk      2 - Late Matinee          QC       0            0   \n",
              "\n",
              "   Is_Licensed_Bar  Is_Licensed_Lounge TimeSlice_Hour_AMPM  \\\n",
              "0                1                   0                  PM   \n",
              "1                1                   0                  PM   \n",
              "2                1                   0                  PM   \n",
              "3                0                   0                  PM   \n",
              "4                0                   0                  PM   \n",
              "\n",
              "  Sales_Channel_Breakdown  Sales_Channel_Online Visit_Date_DOW  \\\n",
              "0         Sales_MainStore                     0        Tuesday   \n",
              "1         Sales_MainStore                     0        Tuesday   \n",
              "2         Sales_MainStore                     0        Tuesday   \n",
              "3         Sales_MainKiosk                     0        Tuesday   \n",
              "4         Sales_MainKiosk                     0        Tuesday   \n",
              "\n",
              "   Visit_Date_Week Visit_Date_Month  Visit_Date_IsWeekend  \n",
              "0                0          January                     0  \n",
              "1                0          January                     0  \n",
              "2                0          January                     0  \n",
              "3                0          January                     0  \n",
              "4                0          January                     0  "
            ]
          },
          "metadata": {
            "tags": []
          },
          "execution_count": 128
        },
        {
          "output_type": "execute_result",
          "data": {
            "text/plain": [
              "(36258, 33)"
            ]
          },
          "metadata": {
            "tags": []
          },
          "execution_count": 128
        }
      ]
    },
    {
      "cell_type": "markdown",
      "metadata": {
        "id": "JA_KlM9z1uSp"
      },
      "source": [
        "# **Training/Test Split**"
      ]
    },
    {
      "cell_type": "code",
      "metadata": {
        "colab": {
          "base_uri": "https://localhost:8080/"
        },
        "id": "6Mwhf9Bm1w7B",
        "outputId": "d208949f-925e-4524-8e8d-2b3dc88ab497"
      },
      "source": [
        "# The name of the column in visits that has the target value we want to predict\n",
        "# Change this to whatever you need/want!\n",
        "target_col = 'YM_BUTTER_max'\n",
        "\n",
        "y = visits[target_col]\n",
        "\n",
        "train_index = X['Visit_ID'] <= 88863\n",
        "test_index = ~train_index\n",
        "\n",
        "X_train, X_test = X[train_index], X[test_index]\n",
        "y_train, y_test = y[train_index], y[test_index]\n",
        "\n",
        "X_train.shape\n",
        "y_train.shape\n",
        "\n",
        "X_test.shape\n",
        "y_test.shape"
      ],
      "execution_count": null,
      "outputs": [
        {
          "output_type": "execute_result",
          "data": {
            "text/plain": [
              "(31079, 33)"
            ]
          },
          "metadata": {
            "tags": []
          },
          "execution_count": 129
        },
        {
          "output_type": "execute_result",
          "data": {
            "text/plain": [
              "(31079,)"
            ]
          },
          "metadata": {
            "tags": []
          },
          "execution_count": 129
        },
        {
          "output_type": "execute_result",
          "data": {
            "text/plain": [
              "(5179, 33)"
            ]
          },
          "metadata": {
            "tags": []
          },
          "execution_count": 129
        },
        {
          "output_type": "execute_result",
          "data": {
            "text/plain": [
              "(5179,)"
            ]
          },
          "metadata": {
            "tags": []
          },
          "execution_count": 129
        }
      ]
    },
    {
      "cell_type": "code",
      "metadata": {
        "colab": {
          "base_uri": "https://localhost:8080/",
          "height": 214
        },
        "id": "vJXviZh0_Z7b",
        "outputId": "b09957a9-6629-427a-b65f-9ad890ddb7a5"
      },
      "source": [
        "X_train.head()"
      ],
      "execution_count": null,
      "outputs": [
        {
          "output_type": "execute_result",
          "data": {
            "text/html": [
              "<div>\n",
              "<style scoped>\n",
              "    .dataframe tbody tr th:only-of-type {\n",
              "        vertical-align: middle;\n",
              "    }\n",
              "\n",
              "    .dataframe tbody tr th {\n",
              "        vertical-align: top;\n",
              "    }\n",
              "\n",
              "    .dataframe thead th {\n",
              "        text-align: right;\n",
              "    }\n",
              "</style>\n",
              "<table border=\"1\" class=\"dataframe\">\n",
              "  <thead>\n",
              "    <tr style=\"text-align: right;\">\n",
              "      <th></th>\n",
              "      <th>Visit_ID</th>\n",
              "      <th>CINEPLEX_D_Membership_ID</th>\n",
              "      <th>Location_ID</th>\n",
              "      <th>Auditorium_Experience_ID</th>\n",
              "      <th>Seating_Experience_ID</th>\n",
              "      <th>Sales_Channel_ID</th>\n",
              "      <th>Performance_Experience_ID</th>\n",
              "      <th>Performance_Type_ID</th>\n",
              "      <th>Film_Runtime</th>\n",
              "      <th>Language</th>\n",
              "      <th>Market_Language</th>\n",
              "      <th>Performance_Type</th>\n",
              "      <th>Is_IMAX</th>\n",
              "      <th>Is_DBOX_Capable</th>\n",
              "      <th>Media_Class_Description</th>\n",
              "      <th>Is_4Dx</th>\n",
              "      <th>Genre_Hierarchy_1</th>\n",
              "      <th>Auditorium_Experience_Description</th>\n",
              "      <th>Is_Premium</th>\n",
              "      <th>Sales_Channel</th>\n",
              "      <th>TimeSlice_Description</th>\n",
              "      <th>Province_CD</th>\n",
              "      <th>Is_VIP</th>\n",
              "      <th>Is_Outtakes</th>\n",
              "      <th>Is_Licensed_Bar</th>\n",
              "      <th>Is_Licensed_Lounge</th>\n",
              "      <th>TimeSlice_Hour_AMPM</th>\n",
              "      <th>Sales_Channel_Breakdown</th>\n",
              "      <th>Sales_Channel_Online</th>\n",
              "      <th>Visit_Date_DOW</th>\n",
              "      <th>Visit_Date_Week</th>\n",
              "      <th>Visit_Date_Month</th>\n",
              "      <th>Visit_Date_IsWeekend</th>\n",
              "    </tr>\n",
              "  </thead>\n",
              "  <tbody>\n",
              "    <tr>\n",
              "      <th>0</th>\n",
              "      <td>2</td>\n",
              "      <td>23777</td>\n",
              "      <td>7253</td>\n",
              "      <td>1</td>\n",
              "      <td>1</td>\n",
              "      <td>8</td>\n",
              "      <td>1</td>\n",
              "      <td>1</td>\n",
              "      <td>133.0000</td>\n",
              "      <td>English</td>\n",
              "      <td>English</td>\n",
              "      <td>Film Presentation</td>\n",
              "      <td>0</td>\n",
              "      <td>0</td>\n",
              "      <td>Adult</td>\n",
              "      <td>0.0000</td>\n",
              "      <td>Drama</td>\n",
              "      <td>Regular</td>\n",
              "      <td>0</td>\n",
              "      <td>Point of Sale</td>\n",
              "      <td>1 - Early Matinee</td>\n",
              "      <td>ON</td>\n",
              "      <td>0</td>\n",
              "      <td>1</td>\n",
              "      <td>1</td>\n",
              "      <td>0</td>\n",
              "      <td>PM</td>\n",
              "      <td>Sales_MainStore</td>\n",
              "      <td>0</td>\n",
              "      <td>Tuesday</td>\n",
              "      <td>0</td>\n",
              "      <td>January</td>\n",
              "      <td>0</td>\n",
              "    </tr>\n",
              "    <tr>\n",
              "      <th>1</th>\n",
              "      <td>3</td>\n",
              "      <td>60723</td>\n",
              "      <td>7123</td>\n",
              "      <td>0</td>\n",
              "      <td>0</td>\n",
              "      <td>8</td>\n",
              "      <td>0</td>\n",
              "      <td>0</td>\n",
              "      <td>0.0000</td>\n",
              "      <td>&lt;None&gt;</td>\n",
              "      <td>&lt;None&gt;</td>\n",
              "      <td>&lt;None&gt;</td>\n",
              "      <td>0</td>\n",
              "      <td>0</td>\n",
              "      <td>None</td>\n",
              "      <td>0.0000</td>\n",
              "      <td>Unknown</td>\n",
              "      <td>&lt;Unknown&gt;</td>\n",
              "      <td>0</td>\n",
              "      <td>Point of Sale</td>\n",
              "      <td>1 - Early Matinee</td>\n",
              "      <td>ON</td>\n",
              "      <td>1</td>\n",
              "      <td>1</td>\n",
              "      <td>1</td>\n",
              "      <td>0</td>\n",
              "      <td>PM</td>\n",
              "      <td>Sales_MainStore</td>\n",
              "      <td>0</td>\n",
              "      <td>Tuesday</td>\n",
              "      <td>0</td>\n",
              "      <td>January</td>\n",
              "      <td>0</td>\n",
              "    </tr>\n",
              "    <tr>\n",
              "      <th>2</th>\n",
              "      <td>4</td>\n",
              "      <td>61080</td>\n",
              "      <td>7290</td>\n",
              "      <td>2</td>\n",
              "      <td>2</td>\n",
              "      <td>8</td>\n",
              "      <td>2</td>\n",
              "      <td>1</td>\n",
              "      <td>143.0000</td>\n",
              "      <td>English</td>\n",
              "      <td>English</td>\n",
              "      <td>Film Presentation</td>\n",
              "      <td>0</td>\n",
              "      <td>1</td>\n",
              "      <td>Adult</td>\n",
              "      <td>0.0000</td>\n",
              "      <td>Adaptation</td>\n",
              "      <td>AVX</td>\n",
              "      <td>1</td>\n",
              "      <td>Point of Sale</td>\n",
              "      <td>1 - Early Matinee</td>\n",
              "      <td>ON</td>\n",
              "      <td>0</td>\n",
              "      <td>1</td>\n",
              "      <td>1</td>\n",
              "      <td>0</td>\n",
              "      <td>PM</td>\n",
              "      <td>Sales_MainStore</td>\n",
              "      <td>0</td>\n",
              "      <td>Tuesday</td>\n",
              "      <td>0</td>\n",
              "      <td>January</td>\n",
              "      <td>0</td>\n",
              "    </tr>\n",
              "    <tr>\n",
              "      <th>3</th>\n",
              "      <td>5</td>\n",
              "      <td>103538</td>\n",
              "      <td>1142</td>\n",
              "      <td>1</td>\n",
              "      <td>1</td>\n",
              "      <td>2</td>\n",
              "      <td>1</td>\n",
              "      <td>1</td>\n",
              "      <td>131.0000</td>\n",
              "      <td>English</td>\n",
              "      <td>English</td>\n",
              "      <td>Film Presentation</td>\n",
              "      <td>0</td>\n",
              "      <td>1</td>\n",
              "      <td>Family</td>\n",
              "      <td>0.0000</td>\n",
              "      <td>Comedy</td>\n",
              "      <td>Regular</td>\n",
              "      <td>0</td>\n",
              "      <td>Kiosk</td>\n",
              "      <td>1 - Early Matinee</td>\n",
              "      <td>BC</td>\n",
              "      <td>0</td>\n",
              "      <td>1</td>\n",
              "      <td>0</td>\n",
              "      <td>0</td>\n",
              "      <td>PM</td>\n",
              "      <td>Sales_MainKiosk</td>\n",
              "      <td>0</td>\n",
              "      <td>Tuesday</td>\n",
              "      <td>0</td>\n",
              "      <td>January</td>\n",
              "      <td>0</td>\n",
              "    </tr>\n",
              "    <tr>\n",
              "      <th>4</th>\n",
              "      <td>6</td>\n",
              "      <td>120196</td>\n",
              "      <td>9181</td>\n",
              "      <td>1</td>\n",
              "      <td>1</td>\n",
              "      <td>2</td>\n",
              "      <td>1</td>\n",
              "      <td>1</td>\n",
              "      <td>104.0000</td>\n",
              "      <td>French</td>\n",
              "      <td>French</td>\n",
              "      <td>Film Presentation</td>\n",
              "      <td>0</td>\n",
              "      <td>0</td>\n",
              "      <td>Adult</td>\n",
              "      <td>0.0000</td>\n",
              "      <td>Comedy</td>\n",
              "      <td>Regular</td>\n",
              "      <td>0</td>\n",
              "      <td>Kiosk</td>\n",
              "      <td>2 - Late Matinee</td>\n",
              "      <td>QC</td>\n",
              "      <td>0</td>\n",
              "      <td>0</td>\n",
              "      <td>0</td>\n",
              "      <td>0</td>\n",
              "      <td>PM</td>\n",
              "      <td>Sales_MainKiosk</td>\n",
              "      <td>0</td>\n",
              "      <td>Tuesday</td>\n",
              "      <td>0</td>\n",
              "      <td>January</td>\n",
              "      <td>0</td>\n",
              "    </tr>\n",
              "  </tbody>\n",
              "</table>\n",
              "</div>"
            ],
            "text/plain": [
              "   Visit_ID  CINEPLEX_D_Membership_ID  Location_ID  Auditorium_Experience_ID  \\\n",
              "0         2                     23777         7253                         1   \n",
              "1         3                     60723         7123                         0   \n",
              "2         4                     61080         7290                         2   \n",
              "3         5                    103538         1142                         1   \n",
              "4         6                    120196         9181                         1   \n",
              "\n",
              "   Seating_Experience_ID  Sales_Channel_ID  Performance_Experience_ID  \\\n",
              "0                      1                 8                          1   \n",
              "1                      0                 8                          0   \n",
              "2                      2                 8                          2   \n",
              "3                      1                 2                          1   \n",
              "4                      1                 2                          1   \n",
              "\n",
              "   Performance_Type_ID  Film_Runtime Language Market_Language  \\\n",
              "0                    1      133.0000  English         English   \n",
              "1                    0        0.0000   <None>          <None>   \n",
              "2                    1      143.0000  English         English   \n",
              "3                    1      131.0000  English         English   \n",
              "4                    1      104.0000   French          French   \n",
              "\n",
              "    Performance_Type  Is_IMAX  Is_DBOX_Capable Media_Class_Description  \\\n",
              "0  Film Presentation        0                0                   Adult   \n",
              "1             <None>        0                0                    None   \n",
              "2  Film Presentation        0                1                   Adult   \n",
              "3  Film Presentation        0                1                  Family   \n",
              "4  Film Presentation        0                0                   Adult   \n",
              "\n",
              "   Is_4Dx Genre_Hierarchy_1 Auditorium_Experience_Description  Is_Premium  \\\n",
              "0  0.0000             Drama                           Regular           0   \n",
              "1  0.0000           Unknown                         <Unknown>           0   \n",
              "2  0.0000        Adaptation                               AVX           1   \n",
              "3  0.0000            Comedy                           Regular           0   \n",
              "4  0.0000            Comedy                           Regular           0   \n",
              "\n",
              "   Sales_Channel TimeSlice_Description Province_CD  Is_VIP  Is_Outtakes  \\\n",
              "0  Point of Sale     1 - Early Matinee          ON       0            1   \n",
              "1  Point of Sale     1 - Early Matinee          ON       1            1   \n",
              "2  Point of Sale     1 - Early Matinee          ON       0            1   \n",
              "3          Kiosk     1 - Early Matinee          BC       0            1   \n",
              "4          Kiosk      2 - Late Matinee          QC       0            0   \n",
              "\n",
              "   Is_Licensed_Bar  Is_Licensed_Lounge TimeSlice_Hour_AMPM  \\\n",
              "0                1                   0                  PM   \n",
              "1                1                   0                  PM   \n",
              "2                1                   0                  PM   \n",
              "3                0                   0                  PM   \n",
              "4                0                   0                  PM   \n",
              "\n",
              "  Sales_Channel_Breakdown  Sales_Channel_Online Visit_Date_DOW  \\\n",
              "0         Sales_MainStore                     0        Tuesday   \n",
              "1         Sales_MainStore                     0        Tuesday   \n",
              "2         Sales_MainStore                     0        Tuesday   \n",
              "3         Sales_MainKiosk                     0        Tuesday   \n",
              "4         Sales_MainKiosk                     0        Tuesday   \n",
              "\n",
              "   Visit_Date_Week Visit_Date_Month  Visit_Date_IsWeekend  \n",
              "0                0          January                     0  \n",
              "1                0          January                     0  \n",
              "2                0          January                     0  \n",
              "3                0          January                     0  \n",
              "4                0          January                     0  "
            ]
          },
          "metadata": {
            "tags": []
          },
          "execution_count": 42
        }
      ]
    },
    {
      "cell_type": "markdown",
      "metadata": {
        "id": "pUeVcgsP3S_K"
      },
      "source": [
        "# **Feature Engineering (On the Training Data Only)**\n",
        "We need to take special care avoid data leakage. In particular, when we are engineering features that involves calculations of the data, those calculations should be trained (fit) from the training data.\n"
      ]
    },
    {
      "cell_type": "markdown",
      "metadata": {
        "id": "m6qIp-p7YpXb"
      },
      "source": [
        "# **Per-Member Aggregate Features**\n",
        "\n",
        "We now calcualte member-level aggregation statistics, such as:\n",
        " - The number of total visits\n",
        " - The number of differnet locations the member has visited\n",
        " - The number of times a member has purchased large popcorn\n",
        " - The number of times a member has purchased butter\n",
        " - etc."
      ]
    },
    {
      "cell_type": "code",
      "metadata": {
        "colab": {
          "base_uri": "https://localhost:8080/",
          "height": 186
        },
        "id": "mook_ilG2zee",
        "outputId": "ec3ec638-0fcb-4100-f737-af6092644e0a"
      },
      "source": [
        "visits_items.head(5)\n",
        "visits_items.shape"
      ],
      "execution_count": null,
      "outputs": [
        {
          "output_type": "error",
          "ename": "NameError",
          "evalue": "ignored",
          "traceback": [
            "\u001b[0;31m---------------------------------------------------------------------------\u001b[0m",
            "\u001b[0;31mNameError\u001b[0m                                 Traceback (most recent call last)",
            "\u001b[0;32m<ipython-input-1-3d9ac17b86ef>\u001b[0m in \u001b[0;36m<module>\u001b[0;34m()\u001b[0m\n\u001b[0;32m----> 1\u001b[0;31m \u001b[0mvisits_items\u001b[0m\u001b[0;34m.\u001b[0m\u001b[0mhead\u001b[0m\u001b[0;34m(\u001b[0m\u001b[0;36m5\u001b[0m\u001b[0;34m)\u001b[0m\u001b[0;34m\u001b[0m\u001b[0;34m\u001b[0m\u001b[0m\n\u001b[0m\u001b[1;32m      2\u001b[0m \u001b[0mvisits_items\u001b[0m\u001b[0;34m.\u001b[0m\u001b[0mshape\u001b[0m\u001b[0;34m\u001b[0m\u001b[0;34m\u001b[0m\u001b[0m\n",
            "\u001b[0;31mNameError\u001b[0m: name 'visits_items' is not defined"
          ]
        }
      ]
    },
    {
      "cell_type": "code",
      "metadata": {
        "id": "ZOcfB3xyhuJq"
      },
      "source": [
        "from sklearn.base import BaseEstimator, TransformerMixin\n",
        "from sklearn.preprocessing import StandardScaler, OneHotEncoder, MinMaxScaler\n",
        "\n",
        "\n",
        "class MyTransformer():\n",
        "    \n",
        "    def __init__(self, visits_df, visits_items_df):\n",
        "        self.visits_df = visits_df\n",
        "        self.visits_items_df = visits_items_df\n",
        "        self.visit_member_map = visits_df[['Visit_ID', 'CINEPLEX_D_Membership_ID' ]]\n",
        "        \n",
        "    # The fit method is where we will compute the aggregate features for each member, and save the results\n",
        "    # for later (i.e., transform)\n",
        "    def fit(self, X, y=None):\n",
        "        # First, fit the OneHotEncoder and save for later.\n",
        "\n",
        "        self.visits_df = pd.merge(self.visits_df,self.visits_items_df,how='left',on=['Visit_ID','CINEPLEX_D_Membership_ID'])\n",
        "        \n",
        "        \n",
        "        self.cat_attrs = X.select_dtypes(include=[np.object]).columns\n",
        "        self.OHE = OneHotEncoder(categories='auto', handle_unknown='ignore', sparse=False)\n",
        "        self.OHE.fit(X[self.cat_attrs])\n",
        "        self.cat_feature_names = list(self.OHE.get_feature_names(self.cat_attrs))\n",
        "        \n",
        "        # Now, compute the member-level aggregation statistics.\n",
        "        # Limit the visits to just the members in this training data that's being fit to.\n",
        "        # Otherwise, there will be data leakage!\n",
        "        self.visits_df =  self.visits_df[self.visits_df['Visit_ID'].isin(X['Visit_ID'])]\n",
        "        \n",
        "        # Define my own version of the 'mode' function, which will just return the first mode (in case of tie) and \n",
        "        # thus avoid an annoying error from groupby (whcih always wants just one value)\n",
        "        my_mode = lambda x: pd.Series.mode(x)[0]\n",
        "        \n",
        "        # Use a simple group by to compute some aggregrate statistics. We can do anything we want here,\n",
        "        # this is just an example!\n",
        "        members_visits = self.visits_df.groupby('CINEPLEX_D_Membership_ID').agg(\n",
        "        {\n",
        "        'Film_Runtime': ['mean', 'max'], #Clean-up for missing values\n",
        "        'Is_VIP': ['mean', 'max'],\n",
        "        }).reset_index()\n",
        "        # Pandas group-by creates a MultiIndex, which we don't want. The following few lines\n",
        "        # will rename the columns of the dataframe to something more reasonbale.\n",
        "        members_visits.columns = [\"_\".join(x) for x in members_visits.columns.ravel()]\n",
        "        members_visits = members_visits.rename(columns={'CINEPLEX_D_Membership_ID_': \"CINEPLEX_D_Membership_ID\"})\n",
        "        members_visits.columns = members_visits.columns.str.replace(\"<lambda_0>\", \"mode\")\n",
        "        members_visits.columns = members_visits.columns.str.replace(\"<lambda>\", \"mode\")\n",
        "        # From Visits Table\n",
        "        for col in ['YM_Alcohol','YM_Coffee','YM_popcorn','YM_concession','YM_Voucher','YM_Coupon','YM_VoucherCoupon','Ticket']:\n",
        "            members_visits = pd.merge(members_visits, member_level_visit_stats(visits_items, col),how='left', on='CINEPLEX_D_Membership_ID')\n",
        "\n",
        "\n",
        "        # We want to make sure we have all numeric data, so let's do OHE (dummies) to be sure.\n",
        "        members_visits = members_visits.fillna(members_visits.mean())\n",
        "    \n",
        "        members_visits = pd.get_dummies(members_visits)\n",
        "        # Save the results for later\n",
        "        self.members_visits = members_visits\n",
        "        # Save the names of the features for later\n",
        "        self.memb_feature_names = list(self.members_visits.columns)\n",
        "        return self\n",
        "    \n",
        "   \n",
        "    def transform(self, X, y=None):\n",
        "        # Get the OHE levels\n",
        "        X_cat = pd.DataFrame(self.OHE.transform(X[self.cat_attrs]), columns=self.cat_feature_names)\n",
        "        \n",
        "        # Get the previously-computed member-level agg features.\n",
        "        X_member_agg = pd.DataFrame(X[\"Visit_ID\"])\n",
        "        \n",
        "        # Bring in the agg features for members that we previously computed (if available)\n",
        "        X_member_agg = X_member_agg.merge(self.visit_member_map, how=\"inner\", on=\"Visit_ID\" )\n",
        "        X_member_agg = X_member_agg.merge(self.members_visits, how=\"left\", on=\"CINEPLEX_D_Membership_ID\" )\n",
        "            \n",
        "        # For any members that didn't have agg features, then just fill them in with mean values.\n",
        "        #--OLD X_member_agg = X_member_agg.fillna(X_member_agg.mean())\n",
        "        X_member_agg = X_member_agg.fillna(0)\n",
        "        X_member_agg = X_member_agg.drop(['Visit_ID'], axis=1)\n",
        "        \n",
        "        X.reset_index(drop=True, inplace=True)\n",
        "        X_cat.reset_index(drop=True, inplace=True)\n",
        "        X_member_agg.reset_index(drop=True, inplace=True)\n",
        "        \n",
        "        X_member_agg = X_member_agg.drop(['CINEPLEX_D_Membership_ID'], axis=1)\n",
        "        \n",
        "        X_transformed = pd.concat([X, X_cat, X_member_agg], axis=1, sort=False)\n",
        "        X_transformed = X_transformed.drop(self.cat_attrs, axis=1)\n",
        "        X_transformed = X_transformed.drop('Visit_ID', axis=1)\n",
        "        return X_transformed\n"
      ],
      "execution_count": null,
      "outputs": []
    },
    {
      "cell_type": "markdown",
      "metadata": {
        "id": "wG5Fa_TjDgIt"
      },
      "source": [
        "# **Build Model**"
      ]
    },
    {
      "cell_type": "code",
      "metadata": {
        "id": "VLf9K5MQh0HZ"
      },
      "source": [
        "from sklearn.metrics import classification_report, accuracy_score, cohen_kappa_score, f1_score, log_loss, confusion_matrix\n",
        "\n",
        "def print_scores(clf,X_test,y_test):\n",
        "    y_pred = clf.predict(X_test)\n",
        "\n",
        "    # How did we do?\n",
        "    print(\"F1 Score   = {:.3f}\".format(f1_score(y_test, y_pred, average=\"macro\")))\n",
        "    print(\"Accuracy   = {:.3f}\".format(accuracy_score(y_test, y_pred)))\n",
        "    print(\"Kappa      = {:.3f}\".format(cohen_kappa_score(y_test, y_pred)))\n",
        "    print(\"Log Loss   = {:.3f}\".format(log_loss(y_test, y_pred)))\n",
        "    print(\"\\nConfusion Matrix:\")\n",
        "    unique_label = np.unique([y_test, y_pred])\n",
        "    cmtx = pd.DataFrame(\n",
        "    confusion_matrix(y_test, y_pred, labels=unique_label), \n",
        "    index=['true:{:}'.format(x) for x in unique_label], \n",
        "    columns=['pred:{:}'.format(x) for x in unique_label])\n",
        "    print(cmtx)\n",
        "    print(\"\\nClassification Report:\")\n",
        "    print(classification_report(y_test, y_pred)) "
      ],
      "execution_count": null,
      "outputs": []
    },
    {
      "cell_type": "code",
      "metadata": {
        "id": "2LnHvWt5Eksz"
      },
      "source": [
        "Alfred_t = MyTransformer(visits,visits_items)\n",
        "Alfred_t = Alfred_t.fit(X_train)\n",
        "X_train_All = Alfred_t.transform(X_train)\n",
        "X_test_All = Alfred_t.transform(X_test)"
      ],
      "execution_count": null,
      "outputs": []
    },
    {
      "cell_type": "code",
      "metadata": {
        "id": "CQ78TkZJZnAW",
        "colab": {
          "base_uri": "https://localhost:8080/"
        },
        "outputId": "5aaab696-b5cf-41a4-958b-4e3470ff937c"
      },
      "source": [
        "X_train_All.shape"
      ],
      "execution_count": null,
      "outputs": [
        {
          "output_type": "execute_result",
          "data": {
            "text/plain": [
              "(31079, 297)"
            ]
          },
          "metadata": {
            "tags": []
          },
          "execution_count": 47
        }
      ]
    },
    {
      "cell_type": "code",
      "metadata": {
        "id": "sddHeh7RmOiT"
      },
      "source": [
        "Chosen_Features = ['Location_ID','Sales_Channel_ID','Film_Runtime','Visit_Date_Week','Sales_Channel_Breakdown_Sales_MainStore',\n",
        "                   'YM_Alcohol_Revenue_mean','YM_Coffee_Revenue_min','YM_Coffee_Revenue_mean','YM_popcorn_Revenue_min',\n",
        "                   'YM_popcorn_Revenue_mean','YM_popcorn_Points_Earned_mean','YM_concession_Revenue_mean','YM_concession_Spend_mean',\n",
        "                  'YM_concession_Discount_mean', 'YM_concession_Points_Earned_sum','YM_Voucher_Revenue_min','YM_Voucher_Revenue_mean',\n",
        "                  \t'YM_Coupon_Revenue_mean',\t'YM_VoucherCoupon_Revenue_min',\t'YM_VoucherCoupon_Revenue_mean','YM_VoucherCoupon_Points_Earned_mean',\n",
        "                  'Ticket_Revenue_min','Ticket_Revenue_mean','Ticket_Revenue_max','Ticket_Spend_min','Ticket_Discount_min' ]"
      ],
      "execution_count": null,
      "outputs": []
    },
    {
      "cell_type": "code",
      "metadata": {
        "id": "vJNc5LMvnxas"
      },
      "source": [
        "feature_columns = [X_train_All.columns.get_loc(c) for c in Chosen_Features]"
      ],
      "execution_count": null,
      "outputs": []
    },
    {
      "cell_type": "code",
      "metadata": {
        "colab": {
          "base_uri": "https://localhost:8080/"
        },
        "id": "1iQPv2aLpX0J",
        "outputId": "93111b83-9e5b-4c91-aa1b-95ee247c50b5"
      },
      "source": [
        "len(Chosen_Features)"
      ],
      "execution_count": null,
      "outputs": [
        {
          "output_type": "execute_result",
          "data": {
            "text/plain": [
              "26"
            ]
          },
          "metadata": {
            "tags": []
          },
          "execution_count": 50
        }
      ]
    },
    {
      "cell_type": "markdown",
      "metadata": {
        "id": "jFtGtJArqiDB"
      },
      "source": [
        "# **Feature Selection**"
      ]
    },
    {
      "cell_type": "code",
      "metadata": {
        "id": "8YEMJnbyXtha"
      },
      "source": [
        "from sklearn.model_selection import RandomizedSearchCV\n",
        "from scipy.stats import randint as sp_randint\n",
        "from sklearn.tree import DecisionTreeClassifier\n",
        "from sklearn.ensemble import RandomForestClassifier\n",
        "from xgboost import XGBClassifier\n",
        "from sklearn.linear_model import LogisticRegression\n",
        "from sklearn.model_selection import StratifiedKFold\n",
        "from sklearn.feature_selection import RFECV\n",
        "from sklearn.neighbors import KNeighborsClassifier\n",
        "from sklearn.model_selection import StratifiedKFold\n",
        "from sklearn.feature_selection import RFECV"
      ],
      "execution_count": null,
      "outputs": []
    },
    {
      "cell_type": "code",
      "metadata": {
        "id": "Dd0em4EKr8E1"
      },
      "source": [
        "clf = RandomForestClassifier(class_weight='balanced')\n",
        "rfecv = RFECV(estimator=clf, step=5, cv=StratifiedKFold(20), scoring='accuracy')\n",
        "sel = rfecv.fit(X_train_All,y_train)\n",
        "X_train_f = X_train_All.loc[:,sel.support_]\n",
        "X_test_f = X_test_All.loc[:,sel.support_]"
      ],
      "execution_count": null,
      "outputs": []
    },
    {
      "cell_type": "code",
      "metadata": {
        "colab": {
          "base_uri": "https://localhost:8080/"
        },
        "id": "vUsz78DGvSf3",
        "outputId": "96123c8c-588b-4fdd-e1e0-fe65a6b82f95"
      },
      "source": [
        "X_train_f.shape"
      ],
      "execution_count": null,
      "outputs": [
        {
          "output_type": "execute_result",
          "data": {
            "text/plain": [
              "(31079, 152)"
            ]
          },
          "metadata": {
            "tags": []
          },
          "execution_count": 53
        }
      ]
    },
    {
      "cell_type": "code",
      "metadata": {
        "id": "ArMZCxeKor7E"
      },
      "source": [
        "clf = RandomForestClassifier(class_weight='balanced', criterion='gini', random_state=42, n_estimators=200, max_depth=15)\n",
        "rfecv_1 = RFECV(estimator=clf, step=10, cv=StratifiedKFold(20), scoring='accuracy')\n",
        "sel_1 = rfecv_1.fit(X_train_f,y_train)\n",
        "X_train_f_1 = X_train_f.loc[:,sel_1.support_]\n",
        "X_test_f_1 = X_test_f.loc[:,sel_1.support_]"
      ],
      "execution_count": null,
      "outputs": []
    },
    {
      "cell_type": "code",
      "metadata": {
        "colab": {
          "base_uri": "https://localhost:8080/",
          "height": 231
        },
        "id": "g73-iJkITYgY",
        "outputId": "05896f72-0b55-4562-b043-56186dca26b9"
      },
      "source": [
        "X_train_f_1.head()"
      ],
      "execution_count": null,
      "outputs": [
        {
          "output_type": "execute_result",
          "data": {
            "text/html": [
              "<div>\n",
              "<style scoped>\n",
              "    .dataframe tbody tr th:only-of-type {\n",
              "        vertical-align: middle;\n",
              "    }\n",
              "\n",
              "    .dataframe tbody tr th {\n",
              "        vertical-align: top;\n",
              "    }\n",
              "\n",
              "    .dataframe thead th {\n",
              "        text-align: right;\n",
              "    }\n",
              "</style>\n",
              "<table border=\"1\" class=\"dataframe\">\n",
              "  <thead>\n",
              "    <tr style=\"text-align: right;\">\n",
              "      <th></th>\n",
              "      <th>Location_ID</th>\n",
              "      <th>Sales_Channel_ID</th>\n",
              "      <th>Film_Runtime</th>\n",
              "      <th>Visit_Date_Week</th>\n",
              "      <th>Sales_Channel_Point of Sale</th>\n",
              "      <th>Sales_Channel_Breakdown_Sales_MainStore</th>\n",
              "      <th>YM_Alcohol_Revenue_min</th>\n",
              "      <th>YM_Alcohol_Revenue_mean</th>\n",
              "      <th>YM_Coffee_Revenue_min</th>\n",
              "      <th>YM_Coffee_Revenue_mean</th>\n",
              "      <th>YM_Coffee_Points_Earned_mean</th>\n",
              "      <th>YM_popcorn_Revenue_min</th>\n",
              "      <th>YM_popcorn_Revenue_mean</th>\n",
              "      <th>YM_popcorn_Spend_mean</th>\n",
              "      <th>YM_popcorn_Points_Earned_mean</th>\n",
              "      <th>YM_concession_Revenue_mean</th>\n",
              "      <th>YM_concession_Spend_mean</th>\n",
              "      <th>YM_concession_Discount_mean</th>\n",
              "      <th>YM_concession_Points_Earned_sum</th>\n",
              "      <th>YM_Voucher_Revenue_min</th>\n",
              "      <th>YM_Voucher_Revenue_mean</th>\n",
              "      <th>YM_Coupon_Revenue_min</th>\n",
              "      <th>YM_Coupon_Revenue_mean</th>\n",
              "      <th>YM_VoucherCoupon_Revenue_min</th>\n",
              "      <th>YM_VoucherCoupon_Revenue_mean</th>\n",
              "      <th>YM_VoucherCoupon_Points_Earned_mean</th>\n",
              "      <th>Ticket_Revenue_min</th>\n",
              "      <th>Ticket_Spend_min</th>\n",
              "      <th>Ticket_Spend_mean</th>\n",
              "      <th>Ticket_Spend_max</th>\n",
              "      <th>Ticket_Discount_min</th>\n",
              "      <th>Ticket_Discount_mean</th>\n",
              "    </tr>\n",
              "  </thead>\n",
              "  <tbody>\n",
              "    <tr>\n",
              "      <th>0</th>\n",
              "      <td>7253</td>\n",
              "      <td>8</td>\n",
              "      <td>133.0000</td>\n",
              "      <td>0</td>\n",
              "      <td>1.0000</td>\n",
              "      <td>1.0000</td>\n",
              "      <td>6.4900</td>\n",
              "      <td>8.4242</td>\n",
              "      <td>6.4900</td>\n",
              "      <td>8.4242</td>\n",
              "      <td>71.4167</td>\n",
              "      <td>7.5200</td>\n",
              "      <td>8.6000</td>\n",
              "      <td>8.6000</td>\n",
              "      <td>75.0000</td>\n",
              "      <td>8.6000</td>\n",
              "      <td>8.6000</td>\n",
              "      <td>0.9545</td>\n",
              "      <td>825.0000</td>\n",
              "      <td>6.4900</td>\n",
              "      <td>8.4242</td>\n",
              "      <td>6.4900</td>\n",
              "      <td>8.4242</td>\n",
              "      <td>6.4900</td>\n",
              "      <td>8.4242</td>\n",
              "      <td>71.4167</td>\n",
              "      <td>6.4900</td>\n",
              "      <td>6.4900</td>\n",
              "      <td>6.4900</td>\n",
              "      <td>6.4900</td>\n",
              "      <td>0.7200</td>\n",
              "      <td>0.7200</td>\n",
              "    </tr>\n",
              "    <tr>\n",
              "      <th>1</th>\n",
              "      <td>7123</td>\n",
              "      <td>8</td>\n",
              "      <td>0.0000</td>\n",
              "      <td>0</td>\n",
              "      <td>1.0000</td>\n",
              "      <td>1.0000</td>\n",
              "      <td>0.4900</td>\n",
              "      <td>6.3078</td>\n",
              "      <td>0.4900</td>\n",
              "      <td>6.3474</td>\n",
              "      <td>59.9265</td>\n",
              "      <td>0.5000</td>\n",
              "      <td>6.2870</td>\n",
              "      <td>5.5458</td>\n",
              "      <td>63.1404</td>\n",
              "      <td>10.5942</td>\n",
              "      <td>7.0733</td>\n",
              "      <td>0.7867</td>\n",
              "      <td>750.0000</td>\n",
              "      <td>0.4900</td>\n",
              "      <td>6.3474</td>\n",
              "      <td>0.4900</td>\n",
              "      <td>6.3128</td>\n",
              "      <td>0.4900</td>\n",
              "      <td>6.3128</td>\n",
              "      <td>59.5224</td>\n",
              "      <td>0.4900</td>\n",
              "      <td>0.4900</td>\n",
              "      <td>5.4373</td>\n",
              "      <td>16.1900</td>\n",
              "      <td>0.0500</td>\n",
              "      <td>0.6045</td>\n",
              "    </tr>\n",
              "    <tr>\n",
              "      <th>2</th>\n",
              "      <td>7290</td>\n",
              "      <td>8</td>\n",
              "      <td>143.0000</td>\n",
              "      <td>0</td>\n",
              "      <td>1.0000</td>\n",
              "      <td>1.0000</td>\n",
              "      <td>0.8000</td>\n",
              "      <td>5.4635</td>\n",
              "      <td>0.8000</td>\n",
              "      <td>5.4635</td>\n",
              "      <td>34.8846</td>\n",
              "      <td>0.8000</td>\n",
              "      <td>5.4339</td>\n",
              "      <td>4.0317</td>\n",
              "      <td>34.0870</td>\n",
              "      <td>6.7114</td>\n",
              "      <td>4.4079</td>\n",
              "      <td>0.4886</td>\n",
              "      <td>625.0000</td>\n",
              "      <td>0.8000</td>\n",
              "      <td>5.4635</td>\n",
              "      <td>0.8000</td>\n",
              "      <td>5.4635</td>\n",
              "      <td>0.8000</td>\n",
              "      <td>5.4635</td>\n",
              "      <td>34.8846</td>\n",
              "      <td>0.8000</td>\n",
              "      <td>0.8000</td>\n",
              "      <td>3.5493</td>\n",
              "      <td>7.4900</td>\n",
              "      <td>0.0900</td>\n",
              "      <td>0.3943</td>\n",
              "    </tr>\n",
              "    <tr>\n",
              "      <th>3</th>\n",
              "      <td>1142</td>\n",
              "      <td>2</td>\n",
              "      <td>131.0000</td>\n",
              "      <td>0</td>\n",
              "      <td>0.0000</td>\n",
              "      <td>0.0000</td>\n",
              "      <td>0.5000</td>\n",
              "      <td>6.1032</td>\n",
              "      <td>0.5000</td>\n",
              "      <td>6.1032</td>\n",
              "      <td>23.1818</td>\n",
              "      <td>0.5000</td>\n",
              "      <td>6.6671</td>\n",
              "      <td>2.9612</td>\n",
              "      <td>23.8235</td>\n",
              "      <td>9.1433</td>\n",
              "      <td>2.1433</td>\n",
              "      <td>0.2367</td>\n",
              "      <td>250.0000</td>\n",
              "      <td>0.5000</td>\n",
              "      <td>6.1032</td>\n",
              "      <td>0.5000</td>\n",
              "      <td>6.1032</td>\n",
              "      <td>0.5000</td>\n",
              "      <td>6.1032</td>\n",
              "      <td>23.1818</td>\n",
              "      <td>0.5000</td>\n",
              "      <td>0.5000</td>\n",
              "      <td>3.9985</td>\n",
              "      <td>7.1900</td>\n",
              "      <td>0.0600</td>\n",
              "      <td>0.4446</td>\n",
              "    </tr>\n",
              "    <tr>\n",
              "      <th>4</th>\n",
              "      <td>9181</td>\n",
              "      <td>2</td>\n",
              "      <td>104.0000</td>\n",
              "      <td>0</td>\n",
              "      <td>0.0000</td>\n",
              "      <td>0.0000</td>\n",
              "      <td>0.7800</td>\n",
              "      <td>7.8424</td>\n",
              "      <td>0.7800</td>\n",
              "      <td>7.8424</td>\n",
              "      <td>88.1905</td>\n",
              "      <td>0.7800</td>\n",
              "      <td>7.8424</td>\n",
              "      <td>7.8424</td>\n",
              "      <td>88.1905</td>\n",
              "      <td>8.0289</td>\n",
              "      <td>8.0289</td>\n",
              "      <td>0.8906</td>\n",
              "      <td>1650.0000</td>\n",
              "      <td>0.7800</td>\n",
              "      <td>7.8424</td>\n",
              "      <td>0.7800</td>\n",
              "      <td>7.8424</td>\n",
              "      <td>0.7800</td>\n",
              "      <td>7.8424</td>\n",
              "      <td>88.1905</td>\n",
              "      <td>0.7800</td>\n",
              "      <td>0.7800</td>\n",
              "      <td>4.3460</td>\n",
              "      <td>7.9900</td>\n",
              "      <td>0.0900</td>\n",
              "      <td>0.4860</td>\n",
              "    </tr>\n",
              "  </tbody>\n",
              "</table>\n",
              "</div>"
            ],
            "text/plain": [
              "   Location_ID  Sales_Channel_ID  Film_Runtime  Visit_Date_Week  \\\n",
              "0         7253                 8      133.0000                0   \n",
              "1         7123                 8        0.0000                0   \n",
              "2         7290                 8      143.0000                0   \n",
              "3         1142                 2      131.0000                0   \n",
              "4         9181                 2      104.0000                0   \n",
              "\n",
              "   Sales_Channel_Point of Sale  Sales_Channel_Breakdown_Sales_MainStore  \\\n",
              "0                       1.0000                                   1.0000   \n",
              "1                       1.0000                                   1.0000   \n",
              "2                       1.0000                                   1.0000   \n",
              "3                       0.0000                                   0.0000   \n",
              "4                       0.0000                                   0.0000   \n",
              "\n",
              "   YM_Alcohol_Revenue_min  YM_Alcohol_Revenue_mean  YM_Coffee_Revenue_min  \\\n",
              "0                  6.4900                   8.4242                 6.4900   \n",
              "1                  0.4900                   6.3078                 0.4900   \n",
              "2                  0.8000                   5.4635                 0.8000   \n",
              "3                  0.5000                   6.1032                 0.5000   \n",
              "4                  0.7800                   7.8424                 0.7800   \n",
              "\n",
              "   YM_Coffee_Revenue_mean  YM_Coffee_Points_Earned_mean  \\\n",
              "0                  8.4242                       71.4167   \n",
              "1                  6.3474                       59.9265   \n",
              "2                  5.4635                       34.8846   \n",
              "3                  6.1032                       23.1818   \n",
              "4                  7.8424                       88.1905   \n",
              "\n",
              "   YM_popcorn_Revenue_min  YM_popcorn_Revenue_mean  YM_popcorn_Spend_mean  \\\n",
              "0                  7.5200                   8.6000                 8.6000   \n",
              "1                  0.5000                   6.2870                 5.5458   \n",
              "2                  0.8000                   5.4339                 4.0317   \n",
              "3                  0.5000                   6.6671                 2.9612   \n",
              "4                  0.7800                   7.8424                 7.8424   \n",
              "\n",
              "   YM_popcorn_Points_Earned_mean  YM_concession_Revenue_mean  \\\n",
              "0                        75.0000                      8.6000   \n",
              "1                        63.1404                     10.5942   \n",
              "2                        34.0870                      6.7114   \n",
              "3                        23.8235                      9.1433   \n",
              "4                        88.1905                      8.0289   \n",
              "\n",
              "   YM_concession_Spend_mean  YM_concession_Discount_mean  \\\n",
              "0                    8.6000                       0.9545   \n",
              "1                    7.0733                       0.7867   \n",
              "2                    4.4079                       0.4886   \n",
              "3                    2.1433                       0.2367   \n",
              "4                    8.0289                       0.8906   \n",
              "\n",
              "   YM_concession_Points_Earned_sum  YM_Voucher_Revenue_min  \\\n",
              "0                         825.0000                  6.4900   \n",
              "1                         750.0000                  0.4900   \n",
              "2                         625.0000                  0.8000   \n",
              "3                         250.0000                  0.5000   \n",
              "4                        1650.0000                  0.7800   \n",
              "\n",
              "   YM_Voucher_Revenue_mean  YM_Coupon_Revenue_min  YM_Coupon_Revenue_mean  \\\n",
              "0                   8.4242                 6.4900                  8.4242   \n",
              "1                   6.3474                 0.4900                  6.3128   \n",
              "2                   5.4635                 0.8000                  5.4635   \n",
              "3                   6.1032                 0.5000                  6.1032   \n",
              "4                   7.8424                 0.7800                  7.8424   \n",
              "\n",
              "   YM_VoucherCoupon_Revenue_min  YM_VoucherCoupon_Revenue_mean  \\\n",
              "0                        6.4900                         8.4242   \n",
              "1                        0.4900                         6.3128   \n",
              "2                        0.8000                         5.4635   \n",
              "3                        0.5000                         6.1032   \n",
              "4                        0.7800                         7.8424   \n",
              "\n",
              "   YM_VoucherCoupon_Points_Earned_mean  Ticket_Revenue_min  Ticket_Spend_min  \\\n",
              "0                              71.4167              6.4900            6.4900   \n",
              "1                              59.5224              0.4900            0.4900   \n",
              "2                              34.8846              0.8000            0.8000   \n",
              "3                              23.1818              0.5000            0.5000   \n",
              "4                              88.1905              0.7800            0.7800   \n",
              "\n",
              "   Ticket_Spend_mean  Ticket_Spend_max  Ticket_Discount_min  \\\n",
              "0             6.4900            6.4900               0.7200   \n",
              "1             5.4373           16.1900               0.0500   \n",
              "2             3.5493            7.4900               0.0900   \n",
              "3             3.9985            7.1900               0.0600   \n",
              "4             4.3460            7.9900               0.0900   \n",
              "\n",
              "   Ticket_Discount_mean  \n",
              "0                0.7200  \n",
              "1                0.6045  \n",
              "2                0.3943  \n",
              "3                0.4446  \n",
              "4                0.4860  "
            ]
          },
          "metadata": {
            "tags": []
          },
          "execution_count": 91
        }
      ]
    },
    {
      "cell_type": "code",
      "metadata": {
        "colab": {
          "base_uri": "https://localhost:8080/",
          "height": 976
        },
        "id": "2oyE3JJNooEi",
        "outputId": "3cdedd4e-99b1-4e4e-b403-816a7d31ee85"
      },
      "source": [
        "# random forest for feature importance on a regression problem\n",
        "from sklearn.ensemble import RandomForestRegressor\n",
        "from matplotlib import pyplot\n",
        "\n",
        "model = RandomForestClassifier()\n",
        "# fit the model\n",
        "model.fit(X_train_f_1, y_train)\n",
        "# get importance\n",
        "importance = model.feature_importances_\n",
        "# summarize feature importance\n",
        "for i,v in enumerate(importance):\n",
        "\tprint('Feature: %0d, Score: %.5f' % (i,v))\n",
        "# plot feature importance\n",
        "pyplot.bar(X_train_f_1.columns, importance)\n",
        "pyplot.show()"
      ],
      "execution_count": null,
      "outputs": [
        {
          "output_type": "execute_result",
          "data": {
            "text/plain": [
              "RandomForestClassifier(bootstrap=True, ccp_alpha=0.0, class_weight=None,\n",
              "                       criterion='gini', max_depth=None, max_features='auto',\n",
              "                       max_leaf_nodes=None, max_samples=None,\n",
              "                       min_impurity_decrease=0.0, min_impurity_split=None,\n",
              "                       min_samples_leaf=1, min_samples_split=2,\n",
              "                       min_weight_fraction_leaf=0.0, n_estimators=100,\n",
              "                       n_jobs=None, oob_score=False, random_state=None,\n",
              "                       verbose=0, warm_start=False)"
            ]
          },
          "metadata": {
            "tags": []
          },
          "execution_count": 90
        },
        {
          "output_type": "stream",
          "text": [
            "Feature: 0, Score: 0.05199\n",
            "Feature: 1, Score: 0.03660\n",
            "Feature: 2, Score: 0.10398\n",
            "Feature: 3, Score: 0.12126\n",
            "Feature: 4, Score: 0.01614\n",
            "Feature: 5, Score: 0.01627\n",
            "Feature: 6, Score: 0.00911\n",
            "Feature: 7, Score: 0.03619\n",
            "Feature: 8, Score: 0.01408\n",
            "Feature: 9, Score: 0.04553\n",
            "Feature: 10, Score: 0.02395\n",
            "Feature: 11, Score: 0.02434\n",
            "Feature: 12, Score: 0.06990\n",
            "Feature: 13, Score: 0.02536\n",
            "Feature: 14, Score: 0.02974\n",
            "Feature: 15, Score: 0.03923\n",
            "Feature: 16, Score: 0.02420\n",
            "Feature: 17, Score: 0.02425\n",
            "Feature: 18, Score: 0.02145\n",
            "Feature: 19, Score: 0.01017\n",
            "Feature: 20, Score: 0.03726\n",
            "Feature: 21, Score: 0.00956\n",
            "Feature: 22, Score: 0.03482\n",
            "Feature: 23, Score: 0.00831\n",
            "Feature: 24, Score: 0.03546\n",
            "Feature: 25, Score: 0.02182\n",
            "Feature: 26, Score: 0.00992\n",
            "Feature: 27, Score: 0.01356\n",
            "Feature: 28, Score: 0.02642\n",
            "Feature: 29, Score: 0.02021\n",
            "Feature: 30, Score: 0.01077\n",
            "Feature: 31, Score: 0.02813\n"
          ],
          "name": "stdout"
        },
        {
          "output_type": "execute_result",
          "data": {
            "text/plain": [
              "<BarContainer object of 32 artists>"
            ]
          },
          "metadata": {
            "tags": []
          },
          "execution_count": 90
        },
        {
          "output_type": "display_data",
          "data": {
            "image/png": "[encoded data removed]",
            "text/plain": [
              "<Figure size 432x288 with 1 Axes>"
            ]
          },
          "metadata": {
            "tags": [],
            "needs_background": "light"
          }
        }
      ]
    },
    {
      "cell_type": "code",
      "metadata": {
        "colab": {
          "base_uri": "https://localhost:8080/"
        },
        "id": "_cSDyT071wNH",
        "outputId": "9900f0e3-972c-4c7c-e041-ff4defabfce5"
      },
      "source": [
        "importance[sorted_idx][21:]\n",
        "X_train_f_1.columns[sorted_idx][21:]\n"
      ],
      "execution_count": null,
      "outputs": [
        {
          "output_type": "execute_result",
          "data": {
            "text/plain": [
              "array([0.03482383, 0.03545659, 0.03618733, 0.03659841, 0.03726436,\n",
              "       0.03923369, 0.04552888, 0.0519934 , 0.06989507, 0.10397505,\n",
              "       0.12125735])"
            ]
          },
          "metadata": {
            "tags": []
          },
          "execution_count": 120
        },
        {
          "output_type": "execute_result",
          "data": {
            "text/plain": [
              "Index(['YM_Coupon_Revenue_mean', 'YM_VoucherCoupon_Revenue_mean',\n",
              "       'YM_Alcohol_Revenue_mean', 'Sales_Channel_ID',\n",
              "       'YM_Voucher_Revenue_mean', 'YM_concession_Revenue_mean',\n",
              "       'YM_Coffee_Revenue_mean', 'Location_ID', 'YM_popcorn_Revenue_mean',\n",
              "       'Film_Runtime', 'Visit_Date_Week'],\n",
              "      dtype='object')"
            ]
          },
          "metadata": {
            "tags": []
          },
          "execution_count": 120
        }
      ]
    },
    {
      "cell_type": "code",
      "metadata": {
        "colab": {
          "base_uri": "https://localhost:8080/",
          "height": 599
        },
        "id": "ekPtKU7V0cIZ",
        "outputId": "9749027f-0d2a-404c-b660-ae13ba94cef5"
      },
      "source": [
        "\n",
        "sorted_idx = importance.argsort()\n",
        "y_ticks = np.arange(0, len(X_train_f_1.columns)-22)\n",
        "fig, ax = plt.subplots()\n",
        "ax.barh(y_ticks, importance[sorted_idx][21:-1])\n",
        "ax.set_yticklabels(X_train_f_1.columns[sorted_idx][21:-1])\n",
        "ax.set_yticks(y_ticks)\n",
        "ax.set_title(\"Random Forest Feature Importances (MDI)\")\n",
        "plt.figure(figsize=(14, 8));\n",
        "fig.tight_layout()\n",
        "plt.show()"
      ],
      "execution_count": null,
      "outputs": [
        {
          "output_type": "execute_result",
          "data": {
            "text/plain": [
              "<BarContainer object of 10 artists>"
            ]
          },
          "metadata": {
            "tags": []
          },
          "execution_count": 114
        },
        {
          "output_type": "execute_result",
          "data": {
            "text/plain": [
              "[Text(0, 0, 'YM_Coupon_Revenue_mean'),\n",
              " Text(0, 0, 'YM_VoucherCoupon_Revenue_mean'),\n",
              " Text(0, 0, 'YM_Alcohol_Revenue_mean'),\n",
              " Text(0, 0, 'Sales_Channel_ID'),\n",
              " Text(0, 0, 'YM_Voucher_Revenue_mean'),\n",
              " Text(0, 0, 'YM_concession_Revenue_mean'),\n",
              " Text(0, 0, 'YM_Coffee_Revenue_mean')]"
            ]
          },
          "metadata": {
            "tags": []
          },
          "execution_count": 114
        },
        {
          "output_type": "execute_result",
          "data": {
            "text/plain": [
              "[<matplotlib.axis.YTick at 0x7fc9c6bffda0>,\n",
              " <matplotlib.axis.YTick at 0x7fc9abb804e0>,\n",
              " <matplotlib.axis.YTick at 0x7fc9a281e400>,\n",
              " <matplotlib.axis.YTick at 0x7fc9a2644240>,\n",
              " <matplotlib.axis.YTick at 0x7fc9a26446d8>,\n",
              " <matplotlib.axis.YTick at 0x7fc9a2644b70>,\n",
              " <matplotlib.axis.YTick at 0x7fc9a2644da0>,\n",
              " <matplotlib.axis.YTick at 0x7fc9abd2b6d8>,\n",
              " <matplotlib.axis.YTick at 0x7fc9a264a940>,\n",
              " <matplotlib.axis.YTick at 0x7fc9a264add8>]"
            ]
          },
          "metadata": {
            "tags": []
          },
          "execution_count": 114
        },
        {
          "output_type": "execute_result",
          "data": {
            "text/plain": [
              "Text(0.5, 1.0, 'Random Forest Feature Importances (MDI)')"
            ]
          },
          "metadata": {
            "tags": []
          },
          "execution_count": 114
        },
        {
          "output_type": "execute_result",
          "data": {
            "text/plain": [
              "<Figure size 1008x576 with 0 Axes>"
            ]
          },
          "metadata": {
            "tags": []
          },
          "execution_count": 114
        },
        {
          "output_type": "display_data",
          "data": {
            "image/png": "[encoded data removed]",
            "text/plain": [
              "<Figure size 432x288 with 1 Axes>"
            ]
          },
          "metadata": {
            "tags": [],
            "needs_background": "light"
          }
        },
        {
          "output_type": "display_data",
          "data": {
            "text/plain": [
              "<Figure size 1008x576 with 0 Axes>"
            ]
          },
          "metadata": {
            "tags": []
          }
        }
      ]
    },
    {
      "cell_type": "code",
      "metadata": {
        "colab": {
          "base_uri": "https://localhost:8080/"
        },
        "id": "PD8apUBqyUQq",
        "outputId": "bd7e03b1-3a2c-4ba7-b489-e19ac9ee213a"
      },
      "source": [
        "importance.sort()\n",
        "importance"
      ],
      "execution_count": null,
      "outputs": [
        {
          "output_type": "execute_result",
          "data": {
            "text/plain": [
              "array([0.00179597, 0.00230235, 0.00239364, 0.00259499, 0.0026569 ,\n",
              "       0.00269328, 0.00270456, 0.00275762, 0.00939408, 0.0099024 ,\n",
              "       0.0104902 , 0.0105659 , 0.01059399, 0.0131537 , 0.01373777,\n",
              "       0.01568197, 0.01653473, 0.01726864, 0.01766427, 0.02169422,\n",
              "       0.021946  , 0.02352594, 0.02746021, 0.0283139 , 0.0306686 ,\n",
              "       0.05023076, 0.05787402, 0.06858889, 0.07691571, 0.09788965,\n",
              "       0.12148094, 0.20852417])"
            ]
          },
          "metadata": {
            "tags": []
          },
          "execution_count": 88
        }
      ]
    },
    {
      "cell_type": "code",
      "metadata": {
        "colab": {
          "base_uri": "https://localhost:8080/"
        },
        "id": "SXFVn1HQvew5",
        "outputId": "7004732d-f3af-45fe-ffda-79bb10f4b121"
      },
      "source": [
        "clf = RandomForestClassifier(class_weight='balanced', criterion='gini', random_state=0, n_estimators=250, max_depth=15)\n",
        "clf.fit(X_train_All, y_train)\n",
        "print_scores(clf,X_test_All,y_test)"
      ],
      "execution_count": null,
      "outputs": [
        {
          "output_type": "execute_result",
          "data": {
            "text/plain": [
              "RandomForestClassifier(bootstrap=True, ccp_alpha=0.0, class_weight='balanced',\n",
              "                       criterion='gini', max_depth=15, max_features='auto',\n",
              "                       max_leaf_nodes=None, max_samples=None,\n",
              "                       min_impurity_decrease=0.0, min_impurity_split=None,\n",
              "                       min_samples_leaf=1, min_samples_split=2,\n",
              "                       min_weight_fraction_leaf=0.0, n_estimators=250,\n",
              "                       n_jobs=None, oob_score=False, random_state=0, verbose=0,\n",
              "                       warm_start=False)"
            ]
          },
          "metadata": {
            "tags": []
          },
          "execution_count": 26
        },
        {
          "output_type": "stream",
          "text": [
            "F1 Score   = 0.766\n",
            "Accuracy   = 0.838\n",
            "Kappa      = 0.533\n",
            "Log Loss   = 5.589\n",
            "\n",
            "Confusion Matrix:\n",
            "        pred:0  pred:1\n",
            "true:0    3607     494\n",
            "true:1     344     734\n",
            "\n",
            "Classification Report:\n",
            "              precision    recall  f1-score   support\n",
            "\n",
            "           0       0.91      0.88      0.90      4101\n",
            "           1       0.60      0.68      0.64      1078\n",
            "\n",
            "    accuracy                           0.84      5179\n",
            "   macro avg       0.76      0.78      0.77      5179\n",
            "weighted avg       0.85      0.84      0.84      5179\n",
            "\n"
          ],
          "name": "stdout"
        }
      ]
    },
    {
      "cell_type": "code",
      "metadata": {
        "colab": {
          "base_uri": "https://localhost:8080/",
          "height": 1000
        },
        "id": "OTdmEt9QhB-M",
        "outputId": "9bbb0e6b-61b2-42ac-95fb-19cb13fcf0c6"
      },
      "source": [
        "from sklearn.ensemble.partial_dependence import partial_dependence, plot_partial_dependence\n",
        "from sklearn.ensemble import GradientBoostingRegressor\n",
        "X, y = X_train_All, y_train\n",
        "clf = GradientBoostingRegressor()\n",
        "clf.fit(X_train_All, y_train)\n",
        "my_plots = plot_partial_dependence(clf, X=X_train_All,      \n",
        "                                   features=feature_columns, grid_resolution=10) \n"
      ],
      "execution_count": null,
      "outputs": [
        {
          "output_type": "execute_result",
          "data": {
            "text/plain": [
              "GradientBoostingRegressor(alpha=0.9, ccp_alpha=0.0, criterion='friedman_mse',\n",
              "                          init=None, learning_rate=0.1, loss='ls', max_depth=3,\n",
              "                          max_features=None, max_leaf_nodes=None,\n",
              "                          min_impurity_decrease=0.0, min_impurity_split=None,\n",
              "                          min_samples_leaf=1, min_samples_split=2,\n",
              "                          min_weight_fraction_leaf=0.0, n_estimators=100,\n",
              "                          n_iter_no_change=None, presort='deprecated',\n",
              "                          random_state=None, subsample=1.0, tol=0.0001,\n",
              "                          validation_fraction=0.1, verbose=0, warm_start=False)"
            ]
          },
          "metadata": {
            "tags": []
          },
          "execution_count": 28
        },
        {
          "output_type": "stream",
          "text": [
            "/usr/local/lib/python3.6/dist-packages/sklearn/utils/deprecation.py:87: FutureWarning: Function plot_partial_dependence is deprecated; The function ensemble.plot_partial_dependence has been deprecated in favour of sklearn.inspection.plot_partial_dependence in  0.21 and will be removed in 0.23.\n",
            "  warnings.warn(msg, category=FutureWarning)\n",
            "/usr/local/lib/python3.6/dist-packages/sklearn/utils/deprecation.py:87: FutureWarning: Function partial_dependence is deprecated; The function ensemble.partial_dependence has been deprecated in favour of inspection.partial_dependence in 0.21 and will be removed in 0.23.\n",
            "  warnings.warn(msg, category=FutureWarning)\n",
            "/usr/local/lib/python3.6/dist-packages/sklearn/utils/deprecation.py:87: FutureWarning: Function partial_dependence is deprecated; The function ensemble.partial_dependence has been deprecated in favour of inspection.partial_dependence in 0.21 and will be removed in 0.23.\n",
            "  warnings.warn(msg, category=FutureWarning)\n",
            "/usr/local/lib/python3.6/dist-packages/sklearn/utils/deprecation.py:87: FutureWarning: Function partial_dependence is deprecated; The function ensemble.partial_dependence has been deprecated in favour of inspection.partial_dependence in 0.21 and will be removed in 0.23.\n",
            "  warnings.warn(msg, category=FutureWarning)\n",
            "/usr/local/lib/python3.6/dist-packages/sklearn/utils/deprecation.py:87: FutureWarning: Function partial_dependence is deprecated; The function ensemble.partial_dependence has been deprecated in favour of inspection.partial_dependence in 0.21 and will be removed in 0.23.\n",
            "  warnings.warn(msg, category=FutureWarning)\n",
            "/usr/local/lib/python3.6/dist-packages/sklearn/utils/deprecation.py:87: FutureWarning: Function partial_dependence is deprecated; The function ensemble.partial_dependence has been deprecated in favour of inspection.partial_dependence in 0.21 and will be removed in 0.23.\n",
            "  warnings.warn(msg, category=FutureWarning)\n",
            "/usr/local/lib/python3.6/dist-packages/sklearn/utils/deprecation.py:87: FutureWarning: Function partial_dependence is deprecated; The function ensemble.partial_dependence has been deprecated in favour of inspection.partial_dependence in 0.21 and will be removed in 0.23.\n",
            "  warnings.warn(msg, category=FutureWarning)\n",
            "/usr/local/lib/python3.6/dist-packages/sklearn/utils/deprecation.py:87: FutureWarning: Function partial_dependence is deprecated; The function ensemble.partial_dependence has been deprecated in favour of inspection.partial_dependence in 0.21 and will be removed in 0.23.\n",
            "  warnings.warn(msg, category=FutureWarning)\n",
            "/usr/local/lib/python3.6/dist-packages/sklearn/utils/deprecation.py:87: FutureWarning: Function partial_dependence is deprecated; The function ensemble.partial_dependence has been deprecated in favour of inspection.partial_dependence in 0.21 and will be removed in 0.23.\n",
            "  warnings.warn(msg, category=FutureWarning)\n",
            "/usr/local/lib/python3.6/dist-packages/sklearn/utils/deprecation.py:87: FutureWarning: Function partial_dependence is deprecated; The function ensemble.partial_dependence has been deprecated in favour of inspection.partial_dependence in 0.21 and will be removed in 0.23.\n",
            "  warnings.warn(msg, category=FutureWarning)\n",
            "/usr/local/lib/python3.6/dist-packages/sklearn/utils/deprecation.py:87: FutureWarning: Function partial_dependence is deprecated; The function ensemble.partial_dependence has been deprecated in favour of inspection.partial_dependence in 0.21 and will be removed in 0.23.\n",
            "  warnings.warn(msg, category=FutureWarning)\n",
            "/usr/local/lib/python3.6/dist-packages/sklearn/utils/deprecation.py:87: FutureWarning: Function partial_dependence is deprecated; The function ensemble.partial_dependence has been deprecated in favour of inspection.partial_dependence in 0.21 and will be removed in 0.23.\n",
            "  warnings.warn(msg, category=FutureWarning)\n",
            "/usr/local/lib/python3.6/dist-packages/sklearn/utils/deprecation.py:87: FutureWarning: Function partial_dependence is deprecated; The function ensemble.partial_dependence has been deprecated in favour of inspection.partial_dependence in 0.21 and will be removed in 0.23.\n",
            "  warnings.warn(msg, category=FutureWarning)\n",
            "/usr/local/lib/python3.6/dist-packages/sklearn/utils/deprecation.py:87: FutureWarning: Function partial_dependence is deprecated; The function ensemble.partial_dependence has been deprecated in favour of inspection.partial_dependence in 0.21 and will be removed in 0.23.\n",
            "  warnings.warn(msg, category=FutureWarning)\n",
            "/usr/local/lib/python3.6/dist-packages/sklearn/utils/deprecation.py:87: FutureWarning: Function partial_dependence is deprecated; The function ensemble.partial_dependence has been deprecated in favour of inspection.partial_dependence in 0.21 and will be removed in 0.23.\n",
            "  warnings.warn(msg, category=FutureWarning)\n",
            "/usr/local/lib/python3.6/dist-packages/sklearn/utils/deprecation.py:87: FutureWarning: Function partial_dependence is deprecated; The function ensemble.partial_dependence has been deprecated in favour of inspection.partial_dependence in 0.21 and will be removed in 0.23.\n",
            "  warnings.warn(msg, category=FutureWarning)\n",
            "/usr/local/lib/python3.6/dist-packages/sklearn/utils/deprecation.py:87: FutureWarning: Function partial_dependence is deprecated; The function ensemble.partial_dependence has been deprecated in favour of inspection.partial_dependence in 0.21 and will be removed in 0.23.\n",
            "  warnings.warn(msg, category=FutureWarning)\n",
            "/usr/local/lib/python3.6/dist-packages/sklearn/utils/deprecation.py:87: FutureWarning: Function partial_dependence is deprecated; The function ensemble.partial_dependence has been deprecated in favour of inspection.partial_dependence in 0.21 and will be removed in 0.23.\n",
            "  warnings.warn(msg, category=FutureWarning)\n",
            "/usr/local/lib/python3.6/dist-packages/sklearn/utils/deprecation.py:87: FutureWarning: Function partial_dependence is deprecated; The function ensemble.partial_dependence has been deprecated in favour of inspection.partial_dependence in 0.21 and will be removed in 0.23.\n",
            "  warnings.warn(msg, category=FutureWarning)\n",
            "/usr/local/lib/python3.6/dist-packages/sklearn/utils/deprecation.py:87: FutureWarning: Function partial_dependence is deprecated; The function ensemble.partial_dependence has been deprecated in favour of inspection.partial_dependence in 0.21 and will be removed in 0.23.\n",
            "  warnings.warn(msg, category=FutureWarning)\n",
            "/usr/local/lib/python3.6/dist-packages/sklearn/utils/deprecation.py:87: FutureWarning: Function partial_dependence is deprecated; The function ensemble.partial_dependence has been deprecated in favour of inspection.partial_dependence in 0.21 and will be removed in 0.23.\n",
            "  warnings.warn(msg, category=FutureWarning)\n",
            "/usr/local/lib/python3.6/dist-packages/sklearn/utils/deprecation.py:87: FutureWarning: Function partial_dependence is deprecated; The function ensemble.partial_dependence has been deprecated in favour of inspection.partial_dependence in 0.21 and will be removed in 0.23.\n",
            "  warnings.warn(msg, category=FutureWarning)\n",
            "/usr/local/lib/python3.6/dist-packages/sklearn/utils/deprecation.py:87: FutureWarning: Function partial_dependence is deprecated; The function ensemble.partial_dependence has been deprecated in favour of inspection.partial_dependence in 0.21 and will be removed in 0.23.\n",
            "  warnings.warn(msg, category=FutureWarning)\n",
            "/usr/local/lib/python3.6/dist-packages/sklearn/utils/deprecation.py:87: FutureWarning: Function partial_dependence is deprecated; The function ensemble.partial_dependence has been deprecated in favour of inspection.partial_dependence in 0.21 and will be removed in 0.23.\n",
            "  warnings.warn(msg, category=FutureWarning)\n",
            "/usr/local/lib/python3.6/dist-packages/sklearn/utils/deprecation.py:87: FutureWarning: Function partial_dependence is deprecated; The function ensemble.partial_dependence has been deprecated in favour of inspection.partial_dependence in 0.21 and will be removed in 0.23.\n",
            "  warnings.warn(msg, category=FutureWarning)\n",
            "/usr/local/lib/python3.6/dist-packages/sklearn/utils/deprecation.py:87: FutureWarning: Function partial_dependence is deprecated; The function ensemble.partial_dependence has been deprecated in favour of inspection.partial_dependence in 0.21 and will be removed in 0.23.\n",
            "  warnings.warn(msg, category=FutureWarning)\n",
            "/usr/local/lib/python3.6/dist-packages/sklearn/utils/deprecation.py:87: FutureWarning: Function partial_dependence is deprecated; The function ensemble.partial_dependence has been deprecated in favour of inspection.partial_dependence in 0.21 and will be removed in 0.23.\n",
            "  warnings.warn(msg, category=FutureWarning)\n"
          ],
          "name": "stderr"
        },
        {
          "output_type": "display_data",
          "data": {
            "image/png": "[encoded data removed]",
            "text/plain": [
              "<Figure size 432x288 with 26 Axes>"
            ]
          },
          "metadata": {
            "tags": [],
            "needs_background": "light"
          }
        }
      ]
    },
    {
      "cell_type": "code",
      "metadata": {
        "colab": {
          "base_uri": "https://localhost:8080/",
          "height": 214
        },
        "id": "fBW8OSTNlMYD",
        "outputId": "83d3a831-590e-45c0-e993-2f03e6eabb91"
      },
      "source": [
        "X_train_f_1.head()"
      ],
      "execution_count": null,
      "outputs": [
        {
          "output_type": "execute_result",
          "data": {
            "text/html": [
              "<div>\n",
              "<style scoped>\n",
              "    .dataframe tbody tr th:only-of-type {\n",
              "        vertical-align: middle;\n",
              "    }\n",
              "\n",
              "    .dataframe tbody tr th {\n",
              "        vertical-align: top;\n",
              "    }\n",
              "\n",
              "    .dataframe thead th {\n",
              "        text-align: right;\n",
              "    }\n",
              "</style>\n",
              "<table border=\"1\" class=\"dataframe\">\n",
              "  <thead>\n",
              "    <tr style=\"text-align: right;\">\n",
              "      <th></th>\n",
              "      <th>Location_ID</th>\n",
              "      <th>Sales_Channel_ID</th>\n",
              "      <th>Film_Runtime</th>\n",
              "      <th>Visit_Date_Week</th>\n",
              "      <th>Sales_Channel_Breakdown_Sales_MainStore</th>\n",
              "      <th>YM_Alcohol_Revenue_mean</th>\n",
              "      <th>YM_Coffee_Revenue_min</th>\n",
              "      <th>YM_Coffee_Revenue_mean</th>\n",
              "      <th>YM_popcorn_Revenue_min</th>\n",
              "      <th>YM_popcorn_Revenue_mean</th>\n",
              "      <th>YM_popcorn_Points_Earned_mean</th>\n",
              "      <th>YM_concession_Revenue_mean</th>\n",
              "      <th>YM_concession_Spend_mean</th>\n",
              "      <th>YM_concession_Discount_mean</th>\n",
              "      <th>YM_concession_Points_Earned_sum</th>\n",
              "      <th>YM_Voucher_Revenue_min</th>\n",
              "      <th>YM_Voucher_Revenue_mean</th>\n",
              "      <th>YM_Coupon_Revenue_mean</th>\n",
              "      <th>YM_VoucherCoupon_Revenue_min</th>\n",
              "      <th>YM_VoucherCoupon_Revenue_mean</th>\n",
              "      <th>YM_VoucherCoupon_Points_Earned_mean</th>\n",
              "      <th>Ticket_Revenue_min</th>\n",
              "      <th>Ticket_Revenue_mean</th>\n",
              "      <th>Ticket_Revenue_max</th>\n",
              "      <th>Ticket_Spend_min</th>\n",
              "      <th>Ticket_Discount_min</th>\n",
              "    </tr>\n",
              "  </thead>\n",
              "  <tbody>\n",
              "    <tr>\n",
              "      <th>0</th>\n",
              "      <td>7253</td>\n",
              "      <td>8</td>\n",
              "      <td>133.0000</td>\n",
              "      <td>0</td>\n",
              "      <td>1.0000</td>\n",
              "      <td>8.4242</td>\n",
              "      <td>6.4900</td>\n",
              "      <td>8.4242</td>\n",
              "      <td>7.5200</td>\n",
              "      <td>8.6000</td>\n",
              "      <td>75.0000</td>\n",
              "      <td>8.6000</td>\n",
              "      <td>8.6000</td>\n",
              "      <td>0.9545</td>\n",
              "      <td>825.0000</td>\n",
              "      <td>6.4900</td>\n",
              "      <td>8.4242</td>\n",
              "      <td>8.4242</td>\n",
              "      <td>6.4900</td>\n",
              "      <td>8.4242</td>\n",
              "      <td>71.4167</td>\n",
              "      <td>6.4900</td>\n",
              "      <td>6.4900</td>\n",
              "      <td>6.4900</td>\n",
              "      <td>6.4900</td>\n",
              "      <td>0.7200</td>\n",
              "    </tr>\n",
              "    <tr>\n",
              "      <th>1</th>\n",
              "      <td>7123</td>\n",
              "      <td>8</td>\n",
              "      <td>0.0000</td>\n",
              "      <td>0</td>\n",
              "      <td>1.0000</td>\n",
              "      <td>6.3078</td>\n",
              "      <td>0.4900</td>\n",
              "      <td>6.3474</td>\n",
              "      <td>0.5000</td>\n",
              "      <td>6.2870</td>\n",
              "      <td>63.1404</td>\n",
              "      <td>10.5942</td>\n",
              "      <td>7.0733</td>\n",
              "      <td>0.7867</td>\n",
              "      <td>750.0000</td>\n",
              "      <td>0.4900</td>\n",
              "      <td>6.3474</td>\n",
              "      <td>6.3128</td>\n",
              "      <td>0.4900</td>\n",
              "      <td>6.3128</td>\n",
              "      <td>59.5224</td>\n",
              "      <td>0.4900</td>\n",
              "      <td>5.4373</td>\n",
              "      <td>16.1900</td>\n",
              "      <td>0.4900</td>\n",
              "      <td>0.0500</td>\n",
              "    </tr>\n",
              "    <tr>\n",
              "      <th>2</th>\n",
              "      <td>7290</td>\n",
              "      <td>8</td>\n",
              "      <td>143.0000</td>\n",
              "      <td>0</td>\n",
              "      <td>1.0000</td>\n",
              "      <td>5.4635</td>\n",
              "      <td>0.8000</td>\n",
              "      <td>5.4635</td>\n",
              "      <td>0.8000</td>\n",
              "      <td>5.4339</td>\n",
              "      <td>34.0870</td>\n",
              "      <td>6.7114</td>\n",
              "      <td>4.4079</td>\n",
              "      <td>0.4886</td>\n",
              "      <td>625.0000</td>\n",
              "      <td>0.8000</td>\n",
              "      <td>5.4635</td>\n",
              "      <td>5.4635</td>\n",
              "      <td>0.8000</td>\n",
              "      <td>5.4635</td>\n",
              "      <td>34.8846</td>\n",
              "      <td>0.8000</td>\n",
              "      <td>3.5493</td>\n",
              "      <td>7.4900</td>\n",
              "      <td>0.8000</td>\n",
              "      <td>0.0900</td>\n",
              "    </tr>\n",
              "    <tr>\n",
              "      <th>3</th>\n",
              "      <td>1142</td>\n",
              "      <td>2</td>\n",
              "      <td>131.0000</td>\n",
              "      <td>0</td>\n",
              "      <td>0.0000</td>\n",
              "      <td>6.1032</td>\n",
              "      <td>0.5000</td>\n",
              "      <td>6.1032</td>\n",
              "      <td>0.5000</td>\n",
              "      <td>6.6671</td>\n",
              "      <td>23.8235</td>\n",
              "      <td>9.1433</td>\n",
              "      <td>2.1433</td>\n",
              "      <td>0.2367</td>\n",
              "      <td>250.0000</td>\n",
              "      <td>0.5000</td>\n",
              "      <td>6.1032</td>\n",
              "      <td>6.1032</td>\n",
              "      <td>0.5000</td>\n",
              "      <td>6.1032</td>\n",
              "      <td>23.1818</td>\n",
              "      <td>0.5000</td>\n",
              "      <td>3.9985</td>\n",
              "      <td>7.1900</td>\n",
              "      <td>0.5000</td>\n",
              "      <td>0.0600</td>\n",
              "    </tr>\n",
              "    <tr>\n",
              "      <th>4</th>\n",
              "      <td>9181</td>\n",
              "      <td>2</td>\n",
              "      <td>104.0000</td>\n",
              "      <td>0</td>\n",
              "      <td>0.0000</td>\n",
              "      <td>7.8424</td>\n",
              "      <td>0.7800</td>\n",
              "      <td>7.8424</td>\n",
              "      <td>0.7800</td>\n",
              "      <td>7.8424</td>\n",
              "      <td>88.1905</td>\n",
              "      <td>8.0289</td>\n",
              "      <td>8.0289</td>\n",
              "      <td>0.8906</td>\n",
              "      <td>1650.0000</td>\n",
              "      <td>0.7800</td>\n",
              "      <td>7.8424</td>\n",
              "      <td>7.8424</td>\n",
              "      <td>0.7800</td>\n",
              "      <td>7.8424</td>\n",
              "      <td>88.1905</td>\n",
              "      <td>0.7800</td>\n",
              "      <td>4.3460</td>\n",
              "      <td>7.9900</td>\n",
              "      <td>0.7800</td>\n",
              "      <td>0.0900</td>\n",
              "    </tr>\n",
              "  </tbody>\n",
              "</table>\n",
              "</div>"
            ],
            "text/plain": [
              "   Location_ID  Sales_Channel_ID  Film_Runtime  Visit_Date_Week  \\\n",
              "0         7253                 8      133.0000                0   \n",
              "1         7123                 8        0.0000                0   \n",
              "2         7290                 8      143.0000                0   \n",
              "3         1142                 2      131.0000                0   \n",
              "4         9181                 2      104.0000                0   \n",
              "\n",
              "   Sales_Channel_Breakdown_Sales_MainStore  YM_Alcohol_Revenue_mean  \\\n",
              "0                                   1.0000                   8.4242   \n",
              "1                                   1.0000                   6.3078   \n",
              "2                                   1.0000                   5.4635   \n",
              "3                                   0.0000                   6.1032   \n",
              "4                                   0.0000                   7.8424   \n",
              "\n",
              "   YM_Coffee_Revenue_min  YM_Coffee_Revenue_mean  YM_popcorn_Revenue_min  \\\n",
              "0                 6.4900                  8.4242                  7.5200   \n",
              "1                 0.4900                  6.3474                  0.5000   \n",
              "2                 0.8000                  5.4635                  0.8000   \n",
              "3                 0.5000                  6.1032                  0.5000   \n",
              "4                 0.7800                  7.8424                  0.7800   \n",
              "\n",
              "   YM_popcorn_Revenue_mean  YM_popcorn_Points_Earned_mean  \\\n",
              "0                   8.6000                        75.0000   \n",
              "1                   6.2870                        63.1404   \n",
              "2                   5.4339                        34.0870   \n",
              "3                   6.6671                        23.8235   \n",
              "4                   7.8424                        88.1905   \n",
              "\n",
              "   YM_concession_Revenue_mean  YM_concession_Spend_mean  \\\n",
              "0                      8.6000                    8.6000   \n",
              "1                     10.5942                    7.0733   \n",
              "2                      6.7114                    4.4079   \n",
              "3                      9.1433                    2.1433   \n",
              "4                      8.0289                    8.0289   \n",
              "\n",
              "   YM_concession_Discount_mean  YM_concession_Points_Earned_sum  \\\n",
              "0                       0.9545                         825.0000   \n",
              "1                       0.7867                         750.0000   \n",
              "2                       0.4886                         625.0000   \n",
              "3                       0.2367                         250.0000   \n",
              "4                       0.8906                        1650.0000   \n",
              "\n",
              "   YM_Voucher_Revenue_min  YM_Voucher_Revenue_mean  YM_Coupon_Revenue_mean  \\\n",
              "0                  6.4900                   8.4242                  8.4242   \n",
              "1                  0.4900                   6.3474                  6.3128   \n",
              "2                  0.8000                   5.4635                  5.4635   \n",
              "3                  0.5000                   6.1032                  6.1032   \n",
              "4                  0.7800                   7.8424                  7.8424   \n",
              "\n",
              "   YM_VoucherCoupon_Revenue_min  YM_VoucherCoupon_Revenue_mean  \\\n",
              "0                        6.4900                         8.4242   \n",
              "1                        0.4900                         6.3128   \n",
              "2                        0.8000                         5.4635   \n",
              "3                        0.5000                         6.1032   \n",
              "4                        0.7800                         7.8424   \n",
              "\n",
              "   YM_VoucherCoupon_Points_Earned_mean  Ticket_Revenue_min  \\\n",
              "0                              71.4167              6.4900   \n",
              "1                              59.5224              0.4900   \n",
              "2                              34.8846              0.8000   \n",
              "3                              23.1818              0.5000   \n",
              "4                              88.1905              0.7800   \n",
              "\n",
              "   Ticket_Revenue_mean  Ticket_Revenue_max  Ticket_Spend_min  \\\n",
              "0               6.4900              6.4900            6.4900   \n",
              "1               5.4373             16.1900            0.4900   \n",
              "2               3.5493              7.4900            0.8000   \n",
              "3               3.9985              7.1900            0.5000   \n",
              "4               4.3460              7.9900            0.7800   \n",
              "\n",
              "   Ticket_Discount_min  \n",
              "0               0.7200  \n",
              "1               0.0500  \n",
              "2               0.0900  \n",
              "3               0.0600  \n",
              "4               0.0900  "
            ]
          },
          "metadata": {
            "tags": []
          },
          "execution_count": 74
        }
      ]
    },
    {
      "cell_type": "code",
      "metadata": {
        "id": "-95yvjjWQ25k"
      },
      "source": [
        "plt.plot"
      ],
      "execution_count": null,
      "outputs": []
    },
    {
      "cell_type": "code",
      "metadata": {
        "colab": {
          "base_uri": "https://localhost:8080/",
          "height": 585
        },
        "id": "K1YcjAHZcvz8",
        "outputId": "e1932744-700e-47aa-fae4-77b6a485edcb"
      },
      "source": [
        "import matplotlib.pyplot as plt\n",
        "#print(\"Optimal number of features : %d\" % rfecv.n_features_)\n",
        "# Plot number of features VS. cross-validation scores\n",
        "plt.figure(figsize=(14, 8));\n",
        "plt.grid(True);\n",
        "plt.title('Recursive Feature Elimination, Random Forest', fontsize=24);\n",
        "plt.xlabel(\"Number of features\", fontsize=20);\n",
        "plt.ylabel(\"Cross validation score\", fontsize=20);\n",
        "plt.plot(range(1, 5*(len(rfecv.grid_scores_)),5), rfecv.grid_scores_);\n",
        "plt.xticks(fontsize=18,);\n",
        "plt.yticks(fontsize=18);\n",
        "plt.tight_layout();\n",
        "#plt.savefig('out/german_credit-rfe.png');"
      ],
      "execution_count": null,
      "outputs": [
        {
          "output_type": "display_data",
          "data": {
            "image/png": "[encoded data removed]",
            "text/plain": [
              "<Figure size 1008x576 with 1 Axes>"
            ]
          },
          "metadata": {
            "tags": [],
            "needs_background": "light"
          }
        }
      ]
    },
    {
      "cell_type": "code",
      "metadata": {
        "id": "1daTBsMwVVn3"
      },
      "source": [
        ""
      ],
      "execution_count": null,
      "outputs": []
    },
    {
      "cell_type": "code",
      "metadata": {
        "colab": {
          "base_uri": "https://localhost:8080/"
        },
        "id": "LpBPOnXUeIL9",
        "outputId": "2686f4cd-60b0-4c21-8baa-159d5e23c319"
      },
      "source": [
        "from sklearn.tree import DecisionTreeClassifier\n",
        "\n",
        "clf = DecisionTreeClassifier()\n",
        "clf.fit(X_train_f, y_train)\n",
        "\n",
        "print_scores(clf,X_test_f,y_test)"
      ],
      "execution_count": null,
      "outputs": [
        {
          "output_type": "execute_result",
          "data": {
            "text/plain": [
              "DecisionTreeClassifier(ccp_alpha=0.0, class_weight=None, criterion='gini',\n",
              "                       max_depth=None, max_features=None, max_leaf_nodes=None,\n",
              "                       min_impurity_decrease=0.0, min_impurity_split=None,\n",
              "                       min_samples_leaf=1, min_samples_split=2,\n",
              "                       min_weight_fraction_leaf=0.0, presort='deprecated',\n",
              "                       random_state=None, splitter='best')"
            ]
          },
          "metadata": {
            "tags": []
          },
          "execution_count": 34
        },
        {
          "output_type": "stream",
          "text": [
            "F1 Score   = 0.697\n",
            "Accuracy   = 0.785\n",
            "Kappa      = 0.395\n",
            "Log Loss   = 7.423\n",
            "\n",
            "Confusion Matrix:\n",
            "        pred:0  pred:1\n",
            "true:0    3432     669\n",
            "true:1     444     634\n",
            "\n",
            "Classification Report:\n",
            "              precision    recall  f1-score   support\n",
            "\n",
            "           0       0.89      0.84      0.86      4101\n",
            "           1       0.49      0.59      0.53      1078\n",
            "\n",
            "    accuracy                           0.79      5179\n",
            "   macro avg       0.69      0.71      0.70      5179\n",
            "weighted avg       0.80      0.79      0.79      5179\n",
            "\n"
          ],
          "name": "stdout"
        }
      ]
    },
    {
      "cell_type": "code",
      "metadata": {
        "colab": {
          "base_uri": "https://localhost:8080/",
          "height": 221
        },
        "id": "IArc8lsIxMZI",
        "outputId": "8634e7de-c33c-4703-8dc1-2a8fa7607f70"
      },
      "source": [
        "clf = RandomForestClassifier()\n",
        "clf.fit(X_train_f, y_train)\n",
        "\n",
        "print_scores(clf,X_test_f,y_test)"
      ],
      "execution_count": null,
      "outputs": [
        {
          "output_type": "error",
          "ename": "NameError",
          "evalue": "ignored",
          "traceback": [
            "\u001b[0;31m---------------------------------------------------------------------------\u001b[0m",
            "\u001b[0;31mNameError\u001b[0m                                 Traceback (most recent call last)",
            "\u001b[0;32m<ipython-input-4-ebadb747d92d>\u001b[0m in \u001b[0;36m<module>\u001b[0;34m()\u001b[0m\n\u001b[1;32m      1\u001b[0m \u001b[0mclf\u001b[0m \u001b[0;34m=\u001b[0m \u001b[0mRandomForestClassifier\u001b[0m\u001b[0;34m(\u001b[0m\u001b[0;34m)\u001b[0m\u001b[0;34m\u001b[0m\u001b[0;34m\u001b[0m\u001b[0m\n\u001b[0;32m----> 2\u001b[0;31m \u001b[0mclf\u001b[0m\u001b[0;34m.\u001b[0m\u001b[0mfit\u001b[0m\u001b[0;34m(\u001b[0m\u001b[0mX_train_f\u001b[0m\u001b[0;34m,\u001b[0m \u001b[0my_train\u001b[0m\u001b[0;34m)\u001b[0m\u001b[0;34m\u001b[0m\u001b[0;34m\u001b[0m\u001b[0m\n\u001b[0m\u001b[1;32m      3\u001b[0m \u001b[0;34m\u001b[0m\u001b[0m\n\u001b[1;32m      4\u001b[0m \u001b[0mprint_scores\u001b[0m\u001b[0;34m(\u001b[0m\u001b[0mclf\u001b[0m\u001b[0;34m,\u001b[0m\u001b[0mX_test_f\u001b[0m\u001b[0;34m,\u001b[0m\u001b[0my_test\u001b[0m\u001b[0;34m)\u001b[0m\u001b[0;34m\u001b[0m\u001b[0;34m\u001b[0m\u001b[0m\n",
            "\u001b[0;31mNameError\u001b[0m: name 'X_train_f' is not defined"
          ]
        }
      ]
    },
    {
      "cell_type": "code",
      "metadata": {
        "colab": {
          "base_uri": "https://localhost:8080/",
          "height": 221
        },
        "id": "bkfm4EoegsxK",
        "outputId": "fc93bcb3-0afe-431a-c06b-2d2f3ae053de"
      },
      "source": [
        "clf = RandomForestClassifier( class_weight='balanced', criterion='gini', random_state=42, n_estimators=200, max_depth=15)\n",
        "clf.fit(X_train_f, y_train)\n",
        "\n",
        "print_scores(clf,X_test_f,y_test)"
      ],
      "execution_count": null,
      "outputs": [
        {
          "output_type": "error",
          "ename": "NameError",
          "evalue": "ignored",
          "traceback": [
            "\u001b[0;31m---------------------------------------------------------------------------\u001b[0m",
            "\u001b[0;31mNameError\u001b[0m                                 Traceback (most recent call last)",
            "\u001b[0;32m<ipython-input-1-c45095e54825>\u001b[0m in \u001b[0;36m<module>\u001b[0;34m()\u001b[0m\n\u001b[0;32m----> 1\u001b[0;31m \u001b[0mclf\u001b[0m \u001b[0;34m=\u001b[0m \u001b[0mRandomForestClassifier\u001b[0m\u001b[0;34m(\u001b[0m \u001b[0mclass_weight\u001b[0m\u001b[0;34m=\u001b[0m\u001b[0;34m'balanced'\u001b[0m\u001b[0;34m,\u001b[0m \u001b[0mcriterion\u001b[0m\u001b[0;34m=\u001b[0m\u001b[0;34m'gini'\u001b[0m\u001b[0;34m,\u001b[0m \u001b[0mrandom_state\u001b[0m\u001b[0;34m=\u001b[0m\u001b[0;36m42\u001b[0m\u001b[0;34m,\u001b[0m \u001b[0mn_estimators\u001b[0m\u001b[0;34m=\u001b[0m\u001b[0;36m200\u001b[0m\u001b[0;34m,\u001b[0m \u001b[0mmax_depth\u001b[0m\u001b[0;34m=\u001b[0m\u001b[0;36m15\u001b[0m\u001b[0;34m)\u001b[0m\u001b[0;34m\u001b[0m\u001b[0;34m\u001b[0m\u001b[0m\n\u001b[0m\u001b[1;32m      2\u001b[0m \u001b[0mclf\u001b[0m\u001b[0;34m.\u001b[0m\u001b[0mfit\u001b[0m\u001b[0;34m(\u001b[0m\u001b[0mX_train_f\u001b[0m\u001b[0;34m,\u001b[0m \u001b[0my_train\u001b[0m\u001b[0;34m)\u001b[0m\u001b[0;34m\u001b[0m\u001b[0;34m\u001b[0m\u001b[0m\n\u001b[1;32m      3\u001b[0m \u001b[0;34m\u001b[0m\u001b[0m\n\u001b[1;32m      4\u001b[0m \u001b[0mprint_scores\u001b[0m\u001b[0;34m(\u001b[0m\u001b[0mclf\u001b[0m\u001b[0;34m,\u001b[0m\u001b[0mX_test_f\u001b[0m\u001b[0;34m,\u001b[0m\u001b[0my_test\u001b[0m\u001b[0;34m)\u001b[0m\u001b[0;34m\u001b[0m\u001b[0;34m\u001b[0m\u001b[0m\n",
            "\u001b[0;31mNameError\u001b[0m: name 'RandomForestClassifier' is not defined"
          ]
        }
      ]
    },
    {
      "cell_type": "code",
      "metadata": {
        "colab": {
          "base_uri": "https://localhost:8080/"
        },
        "id": "yAwog6o9iBLE",
        "outputId": "64060ac3-6317-470a-c3d3-145abb3341ea"
      },
      "source": [
        "hyperparams = {\"max_depth\":sp_randint(10,20),\n",
        "                 \"max_leaf_nodes\": sp_randint(10,20),\n",
        "                 \"criterion\":[\"gini\",\"entropy\"]}\n",
        "\n",
        "clf = RandomForestClassifier(n_estimators=200, class_weight={0:.4,1:.6})   \n",
        "clf = RandomizedSearchCV(clf,param_distributions=hyperparams, cv=5, n_iter=100, return_train_score=True)\n",
        "clf.fit(X_train_All, y_train)\n",
        "\n",
        "print_scores(clf,X_test_All,y_test)"
      ],
      "execution_count": null,
      "outputs": [
        {
          "output_type": "execute_result",
          "data": {
            "text/plain": [
              "RandomizedSearchCV(cv=5, error_score=nan,\n",
              "                   estimator=RandomForestClassifier(bootstrap=True,\n",
              "                                                    ccp_alpha=0.0,\n",
              "                                                    class_weight={0: 0.4,\n",
              "                                                                  1: 0.6},\n",
              "                                                    criterion='gini',\n",
              "                                                    max_depth=None,\n",
              "                                                    max_features='auto',\n",
              "                                                    max_leaf_nodes=None,\n",
              "                                                    max_samples=None,\n",
              "                                                    min_impurity_decrease=0.0,\n",
              "                                                    min_impurity_split=None,\n",
              "                                                    min_samples_leaf=1,\n",
              "                                                    min_samples_split=2,\n",
              "                                                    min_weight_fraction_leaf=0.0,\n",
              "                                                    n_estimators=2...\n",
              "                   iid='deprecated', n_iter=100, n_jobs=None,\n",
              "                   param_distributions={'criterion': ['gini', 'entropy'],\n",
              "                                        'max_depth': <scipy.stats._distn_infrastructure.rv_frozen object at 0x7f1fbf516908>,\n",
              "                                        'max_leaf_nodes': <scipy.stats._distn_infrastructure.rv_frozen object at 0x7f1fbf516080>},\n",
              "                   pre_dispatch='2*n_jobs', random_state=None, refit=True,\n",
              "                   return_train_score=True, scoring=None, verbose=0)"
            ]
          },
          "metadata": {
            "tags": []
          },
          "execution_count": 39
        },
        {
          "output_type": "stream",
          "text": [
            "F1 Score   = 0.731\n",
            "Accuracy   = 0.840\n",
            "Kappa      = 0.464\n",
            "Log Loss   = 5.522\n",
            "\n",
            "Confusion Matrix:\n",
            "        pred:0  pred:1\n",
            "true:0    3827     274\n",
            "true:1     554     524\n",
            "\n",
            "Classification Report:\n",
            "              precision    recall  f1-score   support\n",
            "\n",
            "           0       0.87      0.93      0.90      4101\n",
            "           1       0.66      0.49      0.56      1078\n",
            "\n",
            "    accuracy                           0.84      5179\n",
            "   macro avg       0.77      0.71      0.73      5179\n",
            "weighted avg       0.83      0.84      0.83      5179\n",
            "\n"
          ],
          "name": "stdout"
        }
      ]
    },
    {
      "cell_type": "code",
      "metadata": {
        "colab": {
          "base_uri": "https://localhost:8080/"
        },
        "id": "WFyQ7ViyfC1Q",
        "outputId": "3863a4e0-fa63-4967-f9f6-1b5e03038ed9"
      },
      "source": [
        "hyperparams = {\"max_depth\":sp_randint(5,15),\n",
        "                 \"max_features\":sp_randint(1,12),\n",
        "                 \"max_leaf_nodes\": sp_randint(7,15),\n",
        "                 \"criterion\":[\"gini\",\"entropy\"]}\n",
        "\n",
        "clf = DecisionTreeClassifier()\n",
        "clf = RandomizedSearchCV(clf,param_distributions=hyperparams, cv=5, n_iter=100, return_train_score=True)\n",
        "clf.fit(X_train_All, y_train)\n",
        "\n",
        "print_scores(clf,X_test_All,y_test)"
      ],
      "execution_count": null,
      "outputs": [
        {
          "output_type": "execute_result",
          "data": {
            "text/plain": [
              "RandomizedSearchCV(cv=5, error_score=nan,\n",
              "                   estimator=DecisionTreeClassifier(ccp_alpha=0.0,\n",
              "                                                    class_weight=None,\n",
              "                                                    criterion='gini',\n",
              "                                                    max_depth=None,\n",
              "                                                    max_features=None,\n",
              "                                                    max_leaf_nodes=None,\n",
              "                                                    min_impurity_decrease=0.0,\n",
              "                                                    min_impurity_split=None,\n",
              "                                                    min_samples_leaf=1,\n",
              "                                                    min_samples_split=2,\n",
              "                                                    min_weight_fraction_leaf=0.0,\n",
              "                                                    presort='deprecated',\n",
              "                                                    random_state=None,\n",
              "                                                    splitter='best'),\n",
              "                   i...\n",
              "                   param_distributions={'criterion': ['gini', 'entropy'],\n",
              "                                        'max_depth': <scipy.stats._distn_infrastructure.rv_frozen object at 0x7f1fbf6d0390>,\n",
              "                                        'max_features': <scipy.stats._distn_infrastructure.rv_frozen object at 0x7f1fbf6d05f8>,\n",
              "                                        'max_leaf_nodes': <scipy.stats._distn_infrastructure.rv_frozen object at 0x7f1fbf685748>},\n",
              "                   pre_dispatch='2*n_jobs', random_state=None, refit=True,\n",
              "                   return_train_score=True, scoring=None, verbose=0)"
            ]
          },
          "metadata": {
            "tags": []
          },
          "execution_count": 28
        },
        {
          "output_type": "stream",
          "text": [
            "F1 Score   = 0.667\n",
            "Accuracy   = 0.816\n",
            "Kappa      = 0.342\n",
            "Log Loss   = 6.369\n",
            "\n",
            "Confusion Matrix:\n",
            "        pred:0  pred:1\n",
            "true:0    3843     258\n",
            "true:1     697     381\n",
            "\n",
            "Classification Report:\n",
            "              precision    recall  f1-score   support\n",
            "\n",
            "           0       0.85      0.94      0.89      4101\n",
            "           1       0.60      0.35      0.44      1078\n",
            "\n",
            "    accuracy                           0.82      5179\n",
            "   macro avg       0.72      0.65      0.67      5179\n",
            "weighted avg       0.79      0.82      0.80      5179\n",
            "\n"
          ],
          "name": "stdout"
        }
      ]
    },
    {
      "cell_type": "code",
      "metadata": {
        "id": "GGJJCVeHDoxE"
      },
      "source": [
        "\n",
        "def decision_tree():\n",
        "  clf = DecisionTreeClassifier(class_weight={0:.2,1:.8})\n",
        "  rfecv = RFECV(estimator=clf, step=10, cv=StratifiedKFold(20), scoring='accuracy')\n",
        "  sel = rfecv.fit(X_train_All,y_train)\n",
        "  X_train_f = X_train_All.loc[:,sel.support_]\n",
        "  X_test_f = X_test_All.loc[:,sel.support_]\n",
        "  hyperparams = {\"max_depth\":sp_randint(5,15),\n",
        "                 \"max_features\":sp_randint(1,12),\n",
        "                 \"max_leaf_nodes\": sp_randint(7,15),\n",
        "                 \"criterion\":[\"gini\",\"entropy\"]}\n",
        "\n",
        "  clf = DecisionTreeClassifier(class_weight={0:.2,1:.8})\n",
        "  clf = RandomizedSearchCV(clf,param_distributions=hyperparams, cv=5, n_iter=100, return_train_score=True)\n",
        "\n",
        "  %time clf.fit(X_train_f,y_train) \n",
        "  print_scores(clf,X_train_f,y_train)\n",
        "  print_scores(clf,X_test_f,y_test)\n",
        "\n",
        "def random_forest():\n",
        "  clf = RandomForestClassifier(n_estimators=200, class_weight={0:.4,1:.6})\n",
        "  rfecv = RFECV(estimator=clf, step=5, cv=StratifiedKFold(20), scoring='accuracy')\n",
        "  sel = rfecv.fit(X_train_All,y_train)\n",
        "  X_train_f = X_train_All.loc[:,sel.support_]\n",
        "  X_test_f = X_test_All.loc[:,sel.support_]\n",
        "  hyperparams = {\"max_depth\":sp_randint(10,20),\n",
        "                 \"max_leaf_nodes\": sp_randint(10,20),\n",
        "                 \"criterion\":[\"gini\",\"entropy\"]}\n",
        "\n",
        "  clf = RandomForestClassifier(n_estimators=200, class_weight={0:.4,1:.6})   \n",
        "  clf = RandomizedSearchCV(clf,param_distributions=hyperparams, cv=5, n_iter=100, return_train_score=True)\n",
        "  %time clf.fit(X_train_f,y_train) \n",
        "  print_scores(clf,X_train_f,y_train)\n",
        "  print_scores(clf,X_test_f,y_test)  \n",
        "  return (X_train_f)\n",
        "def XGBoost():\n",
        "  clf = XGBClassifier(n_estimators=50)\n",
        "  rfecv = RFECV(estimator=clf, step=10, cv=StratifiedKFold(20), scoring='accuracy')\n",
        "  sel = rfecv.fit(X_train_All,y_train)\n",
        "  X_train_f = X_train_All.loc[:,sel.support_]\n",
        "  X_test_f = X_test_All.loc[:,sel.support_]\n",
        "  hyperparams = {\"max_depth\":sp_randint(5,15),\n",
        "                 \"booster\": [\"gbtree\", \"gblinear\", \"dart\"]}\n",
        "  clf = XGBClassifier(n_estimators=50)   \n",
        "  clf = RandomizedSearchCV(clf,param_distributions=hyperparams, cv=5, n_iter=100, return_train_score=True)               \n",
        "  %time clf.fit(X_train_f,y_train) \n",
        "  print_scores(clf,X_train_f,y_train)\n",
        "  print_scores(clf,X_test_f,y_test)\n",
        "\n",
        "def Logistic_Regression():\n",
        "  clf = LogisticRegressionCV(cv=5)\n",
        "  rfecv = RFECV(estimator=clf, step=10, cv=StratifiedKFold(20), scoring='accuracy')\n",
        "  sel = rfecv.fit(X_train_All,y_train)\n",
        "  X_train_f = X_train_All.loc[:,sel.support_]\n",
        "  X_test_f = X_test_All.loc[:,sel.support_]\n",
        "  clf = LogisticRegressionCV(cv=5) \n",
        "  %time clf.fit(X_train_f,y_train) \n",
        "  print_scores(clf,X_train_f,y_train)\n",
        "  print_scores(clf,X_test_f,y_test)"
      ],
      "execution_count": null,
      "outputs": []
    },
    {
      "cell_type": "code",
      "metadata": {
        "colab": {
          "base_uri": "https://localhost:8080/"
        },
        "id": "q8GqJIZk85Fq",
        "outputId": "53381e47-e75b-40c3-d175-66c737a95b60"
      },
      "source": [
        "X_train_All.columns"
      ],
      "execution_count": null,
      "outputs": [
        {
          "output_type": "execute_result",
          "data": {
            "text/plain": [
              "Index(['CINEPLEX_D_Membership_ID', 'Location_ID', 'Auditorium_Experience_ID',\n",
              "       'Seating_Experience_ID', 'Sales_Channel_ID',\n",
              "       'Performance_Experience_ID', 'Performance_Type_ID', 'Film_Runtime',\n",
              "       'Is_IMAX', 'Is_DBOX_Capable',\n",
              "       ...\n",
              "       'Ticket_Discount_max', 'Ticket_Discount_sum',\n",
              "       'Ticket_Points_Earned_min', 'Ticket_Points_Earned_mean',\n",
              "       'Ticket_Points_Earned_max', 'Ticket_Points_Earned_sum',\n",
              "       'Ticket_Points_Redeemed_min', 'Ticket_Points_Redeemed_mean',\n",
              "       'Ticket_Points_Redeemed_max', 'Ticket_Points_Redeemed_sum'],\n",
              "      dtype='object', length=297)"
            ]
          },
          "metadata": {
            "tags": []
          },
          "execution_count": 47
        }
      ]
    },
    {
      "cell_type": "code",
      "metadata": {
        "id": "0zrNgiuR9Uzm"
      },
      "source": [
        "import re\n",
        "regex = re.compile(r\"\\[|\\]|<\", re.IGNORECASE)\n",
        "X_train_All.columns = [regex.sub(\"_\", col) if any(x in str(col) for x in set(('[', ']', '<'))) else col for col in X_train_All.columns.values]\n",
        "X_test_All.columns = [regex.sub(\"_\", col) if any(x in str(col) for x in set(('[', ']', '<'))) else col for col in X_test_All.columns.values]"
      ],
      "execution_count": null,
      "outputs": []
    },
    {
      "cell_type": "code",
      "metadata": {
        "colab": {
          "base_uri": "https://localhost:8080/"
        },
        "id": "EFHP9vYV69X9",
        "outputId": "0ebe553b-911a-42ea-8708-6f1bdeabdd08"
      },
      "source": [
        "clf = XGBClassifier(n_estimators=200)\n",
        "clf.fit(X_train_f, y_train)\n",
        "\n",
        "print_scores(clf,X_test_f,y_test)"
      ],
      "execution_count": null,
      "outputs": [
        {
          "output_type": "execute_result",
          "data": {
            "text/plain": [
              "XGBClassifier(base_score=0.5, booster='gbtree', colsample_bylevel=1,\n",
              "              colsample_bynode=1, colsample_bytree=1, gamma=0,\n",
              "              learning_rate=0.1, max_delta_step=0, max_depth=3,\n",
              "              min_child_weight=1, missing=None, n_estimators=200, n_jobs=1,\n",
              "              nthread=None, objective='binary:logistic', random_state=0,\n",
              "              reg_alpha=0, reg_lambda=1, scale_pos_weight=1, seed=None,\n",
              "              silent=None, subsample=1, verbosity=1)"
            ]
          },
          "metadata": {
            "tags": []
          },
          "execution_count": 85
        },
        {
          "output_type": "stream",
          "text": [
            "F1 Score   = 0.744\n",
            "Accuracy   = 0.853\n",
            "Kappa      = 0.493\n",
            "Log Loss   = 5.068\n",
            "\n",
            "Confusion Matrix:\n",
            "        pred:0  pred:1\n",
            "true:0    3900     201\n",
            "true:1     559     519\n",
            "\n",
            "Classification Report:\n",
            "              precision    recall  f1-score   support\n",
            "\n",
            "           0       0.87      0.95      0.91      4101\n",
            "           1       0.72      0.48      0.58      1078\n",
            "\n",
            "    accuracy                           0.85      5179\n",
            "   macro avg       0.80      0.72      0.74      5179\n",
            "weighted avg       0.84      0.85      0.84      5179\n",
            "\n"
          ],
          "name": "stdout"
        }
      ]
    },
    {
      "cell_type": "code",
      "metadata": {
        "colab": {
          "base_uri": "https://localhost:8080/",
          "height": 221
        },
        "id": "8-FiuFdaULwO",
        "outputId": "ded8b233-d586-4624-cebf-221624fe0b93"
      },
      "source": [
        "#decision_tree()\n",
        "random_forest()\n",
        "#XGBoost()\n",
        "#Logistic_Regression()"
      ],
      "execution_count": null,
      "outputs": [
        {
          "output_type": "error",
          "ename": "NameError",
          "evalue": "ignored",
          "traceback": [
            "\u001b[0;31m---------------------------------------------------------------------------\u001b[0m",
            "\u001b[0;31mNameError\u001b[0m                                 Traceback (most recent call last)",
            "\u001b[0;32m<ipython-input-1-1401fc8e4e0d>\u001b[0m in \u001b[0;36m<module>\u001b[0;34m()\u001b[0m\n\u001b[1;32m      1\u001b[0m \u001b[0;31m#decision_tree()\u001b[0m\u001b[0;34m\u001b[0m\u001b[0;34m\u001b[0m\u001b[0;34m\u001b[0m\u001b[0m\n\u001b[0;32m----> 2\u001b[0;31m \u001b[0mrandom_forest\u001b[0m\u001b[0;34m(\u001b[0m\u001b[0;34m)\u001b[0m\u001b[0;34m\u001b[0m\u001b[0;34m\u001b[0m\u001b[0m\n\u001b[0m\u001b[1;32m      3\u001b[0m \u001b[0;31m#XGBoost()\u001b[0m\u001b[0;34m\u001b[0m\u001b[0;34m\u001b[0m\u001b[0;34m\u001b[0m\u001b[0m\n\u001b[1;32m      4\u001b[0m \u001b[0;31m#Logistic_Regression()\u001b[0m\u001b[0;34m\u001b[0m\u001b[0;34m\u001b[0m\u001b[0;34m\u001b[0m\u001b[0m\n",
            "\u001b[0;31mNameError\u001b[0m: name 'random_forest' is not defined"
          ]
        }
      ]
    },
    {
      "cell_type": "code",
      "metadata": {
        "id": "sPfGoyT1WLW1",
        "colab": {
          "base_uri": "https://localhost:8080/"
        },
        "outputId": "93020258-51d4-4bef-f07e-acc2418dffc5"
      },
      "source": [
        "decision_tree()"
      ],
      "execution_count": null,
      "outputs": [
        {
          "output_type": "stream",
          "text": [
            "CPU times: user 28.1 s, sys: 83 ms, total: 28.2 s\n",
            "Wall time: 28.2 s\n",
            "F1 Score   = 0.737\n",
            "Accuracy   = 0.818\n",
            "Kappa      = 0.475\n",
            "Log Loss   = 6.271\n",
            "\n",
            "Confusion Matrix:\n",
            "        pred:0  pred:1\n",
            "true:0   21374    3605\n",
            "true:1    2038    4062\n",
            "\n",
            "Classification Report:\n",
            "              precision    recall  f1-score   support\n",
            "\n",
            "           0       0.91      0.86      0.88     24979\n",
            "           1       0.53      0.67      0.59      6100\n",
            "\n",
            "    accuracy                           0.82     31079\n",
            "   macro avg       0.72      0.76      0.74     31079\n",
            "weighted avg       0.84      0.82      0.83     31079\n",
            "\n",
            "F1 Score   = 0.709\n",
            "Accuracy   = 0.803\n",
            "Kappa      = 0.418\n",
            "Log Loss   = 6.796\n",
            "\n",
            "Confusion Matrix:\n",
            "        pred:0  pred:1\n",
            "true:0    3555     546\n",
            "true:1     473     605\n",
            "\n",
            "Classification Report:\n",
            "              precision    recall  f1-score   support\n",
            "\n",
            "           0       0.88      0.87      0.87      4101\n",
            "           1       0.53      0.56      0.54      1078\n",
            "\n",
            "    accuracy                           0.80      5179\n",
            "   macro avg       0.70      0.71      0.71      5179\n",
            "weighted avg       0.81      0.80      0.81      5179\n",
            "\n"
          ],
          "name": "stdout"
        }
      ]
    }
  ]
}