{
  "nbformat": 4,
  "nbformat_minor": 0,
  "metadata": {
    "colab": {
      "provenance": []
    },
    "kernelspec": {
      "name": "python3",
      "display_name": "Python 3"
    },
    "language_info": {
      "name": "python"
    }
  },
  "cells": [
    {
      "cell_type": "code",
      "execution_count": 128,
      "metadata": {
        "id": "OmktgOb58wev"
      },
      "outputs": [],
      "source": [
        "# Import libraries\n",
        "import pandas as pd\n",
        "import numpy as np\n",
        "import matplotlib.pyplot as plt\n",
        "import seaborn as sns\n",
        "\n",
        "import sklearn.datasets\n",
        "from sklearn.preprocessing import StandardScaler\n",
        "from sklearn.model_selection import train_test_split,GridSearchCV\n",
        "from sklearn.neighbors import KNeighborsClassifier\n",
        "from sklearn.metrics import classification_report,accuracy_score\n",
        "\n",
        "# for pipeline\n",
        "from sklearn.pipeline import make_pipeline"
      ]
    },
    {
      "cell_type": "code",
      "source": [
        "# Load and split data\n",
        "\n",
        "df=datasets.load_iris()\n",
        "X=df.data\n",
        "y=df.target\n",
        "\n",
        "X_train,X_test,y_train,y_test=train_test_split(X,y,test_size=0.3,stratify=y,random_state=42)"
      ],
      "metadata": {
        "id": "R9H4cYwk8_Cf"
      },
      "execution_count": 129,
      "outputs": []
    },
    {
      "cell_type": "markdown",
      "source": [
        "## No pipelines"
      ],
      "metadata": {
        "id": "Ow1JmnfxQE5j"
      }
    },
    {
      "cell_type": "code",
      "source": [
        "# Standardize\n",
        "sc=StandardScaler()\n",
        "X_train_std=sc.fit_transform(X_train)\n",
        "X_test_std=sc.transform(X_test)\n",
        "\n",
        "# Call Knn\n",
        "knn=KNeighborsClassifier(n_neighbors=5,weights='uniform',p=2)\n",
        "model=knn.fit(X_train_std,y_train)\n",
        "y_pred=model.predict(X_test_std)\n",
        "\n",
        "print('Accuracy of train is %.3f'% knn.score(X_train_std,y_train))\n",
        "print('Accuracy of test is %.3f'% knn.score(X_test_std,y_test))\n",
        "\n",
        "print(classification_report(y_test,y_pred))"
      ],
      "metadata": {
        "colab": {
          "base_uri": "https://localhost:8080/"
        },
        "id": "AjIAjMfc-ePf",
        "outputId": "7d6a23a3-c8eb-4abd-bbb7-2a694e84b91e"
      },
      "execution_count": 135,
      "outputs": [
        {
          "output_type": "stream",
          "name": "stdout",
          "text": [
            "Accuracy of train is 0.981\n",
            "Accuracy of test is 0.911\n",
            "              precision    recall  f1-score   support\n",
            "\n",
            "           0       1.00      1.00      1.00        15\n",
            "           1       0.79      1.00      0.88        15\n",
            "           2       1.00      0.73      0.85        15\n",
            "\n",
            "    accuracy                           0.91        45\n",
            "   macro avg       0.93      0.91      0.91        45\n",
            "weighted avg       0.93      0.91      0.91        45\n",
            "\n"
          ]
        }
      ]
    },
    {
      "cell_type": "markdown",
      "source": [
        "## With Pipelines"
      ],
      "metadata": {
        "id": "DdjVmmCgbbkI"
      }
    },
    {
      "cell_type": "code",
      "source": [
        "sc=StandardScaler()\n",
        "pipeline=make_pipeline(sc,KNeighborsClassifier())\n",
        "\n",
        "# GridSearchCV\n",
        "param_grid=[{'kneighborsclassifier__n_neighbors':[3,4,5,6,7,8],\n",
        "             'kneighborsclassifier__p':[1,2],\n",
        "             'kneighborsclassifier__weights':['uniform','distance']\n",
        "             }]\n",
        "\n",
        "gs=GridSearchCV(pipeline,param_grid=param_grid,scoring='accuracy',cv=10,n_jobs=2,refit=True,verbose=1)\n",
        "\n",
        "#Fit model\n",
        "gs.fit(X_train,y_train)\n",
        "\n",
        "print('Best train score is %.3f'% gs.best_score_)\n",
        "print('Best parameters are', gs.best_params_)\n",
        "print('Best test score is %.3f'% gs.score(X_test,y_test))\n",
        "\n",
        "y_pred=gs.predict(X_test)\n",
        "print(classification_report(y_test,y_pred))\n"
      ],
      "metadata": {
        "colab": {
          "base_uri": "https://localhost:8080/"
        },
        "id": "dX7TvZHO-uTf",
        "outputId": "5621b4d8-1a42-4937-ffcc-87f27d61982d"
      },
      "execution_count": 172,
      "outputs": [
        {
          "output_type": "stream",
          "name": "stdout",
          "text": [
            "Fitting 10 folds for each of 24 candidates, totalling 240 fits\n",
            "Best train score is 0.972\n",
            "Best parameters are {'kneighborsclassifier__n_neighbors': 5, 'kneighborsclassifier__p': 1, 'kneighborsclassifier__weights': 'uniform'}\n",
            "Best test score is 0.911\n",
            "              precision    recall  f1-score   support\n",
            "\n",
            "           0       1.00      1.00      1.00        15\n",
            "           1       0.79      1.00      0.88        15\n",
            "           2       1.00      0.73      0.85        15\n",
            "\n",
            "    accuracy                           0.91        45\n",
            "   macro avg       0.93      0.91      0.91        45\n",
            "weighted avg       0.93      0.91      0.91        45\n",
            "\n"
          ]
        }
      ]
    }
  ]
}